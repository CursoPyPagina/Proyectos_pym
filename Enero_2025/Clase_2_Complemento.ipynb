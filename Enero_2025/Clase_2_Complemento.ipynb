{
  "nbformat": 4,
  "nbformat_minor": 0,
  "metadata": {
    "colab": {
      "provenance": []
    },
    "kernelspec": {
      "name": "python3",
      "display_name": "Python 3"
    },
    "language_info": {
      "name": "python"
    }
  },
  "cells": [
    {
      "cell_type": "markdown",
      "source": [
        "# Proyecto\n",
        "\n",
        "* 10 sucursales en la ciudad de México.\n",
        "* Simular un día de ventas en cada una de esas papelerías."
      ],
      "metadata": {
        "id": "0Cnq40ntx2pI"
      }
    },
    {
      "cell_type": "markdown",
      "source": [
        "## 1. Definir listas con las sucursales y los productos que venderemos."
      ],
      "metadata": {
        "id": "Fb3-y4S-ySr6"
      }
    },
    {
      "cell_type": "code",
      "execution_count": null,
      "metadata": {
        "id": "xj_8O34zxxaI"
      },
      "outputs": [],
      "source": [
        "abcdario = ['A', 'B', 'C', 'D', 'E', 'F', 'G', 'H', 'I', 'J',\n",
        "            'K', 'L', 'M', 'N', 'O', 'P', 'Q', 'R', 'S', 'T',\n",
        "            'U', 'V', 'W', 'X', 'Y', 'Z']\n",
        "\n",
        "papelerias = ['Xochimilco', 'Cuemanco', 'Coapa', 'Milpa Alta', 'CU', 'Zócalo',\n",
        "              'Narvarte', 'Santa Fé', 'Polanco', 'Centro']\n",
        "\n",
        "lineas = ['Cuadernos', 'Libretas', 'Lápices', 'Plumones', 'Borradores', 'Sacapuntas',\n",
        "          'Laptops', 'Tablets', 'Mochilas', 'Bolsas', 'Cajas', 'Pegamento', 'Tijeras',\n",
        "          'Monitores', 'Teclados', 'Mouse', 'Audífonos', 'Cables', 'Cargadores', 'Baterías',\n",
        "          'Pc', 'Uniformes', 'Pinturas', 'Pinceles', 'Papel', 'Cartulinas']"
      ]
    },
    {
      "cell_type": "code",
      "source": [
        "# longitudes de las listas\n",
        "print(\"lista abcdario\", len(abcdario))\n",
        "print(\"lista papelerias\", len(papelerias))\n",
        "print(\"lista lineas\", len(lineas))"
      ],
      "metadata": {
        "colab": {
          "base_uri": "https://localhost:8080/"
        },
        "id": "fiegjHBsye6q",
        "outputId": "32691992-2227-43f3-db77-0b7e835bfec3"
      },
      "execution_count": null,
      "outputs": [
        {
          "output_type": "stream",
          "name": "stdout",
          "text": [
            "lista abcdario 26\n",
            "lista papelerias 10\n",
            "lista lineas 26\n"
          ]
        }
      ]
    },
    {
      "cell_type": "markdown",
      "source": [
        "## 2. Definir un ticket de venta\n",
        "\n",
        "Fecha: 2025-01-04\n",
        "\n",
        "Sucursal: Xochimilco\n",
        "\n",
        "Clave producto: AZT-123\n",
        "\n",
        "Precio: 20\n",
        "\n",
        "Cantidad vendida: 5\n",
        "\n",
        "Total: 100"
      ],
      "metadata": {
        "id": "cQzlo3gEzBv2"
      }
    },
    {
      "cell_type": "code",
      "source": [
        "# es una libreria que nos permite hacer selecciones aleatorias y generar numeros aleatorios\n",
        "import random as r\n",
        "\n",
        "# r.choice(lista): seleccion aleatoria dada una lista\n",
        "# SIMULAR EL LANZAMIENTO DE UNA MONEDA\n",
        "moneda = [\"sol\", \"águila\"]\n",
        "r.choice(moneda)"
      ],
      "metadata": {
        "colab": {
          "base_uri": "https://localhost:8080/",
          "height": 35
        },
        "id": "gPSU811QzXGA",
        "outputId": "24347728-2b68-477f-d566-f8d9b59ecf53"
      },
      "execution_count": null,
      "outputs": [
        {
          "output_type": "execute_result",
          "data": {
            "text/plain": [
              "'águila'"
            ],
            "application/vnd.google.colaboratory.intrinsic+json": {
              "type": "string"
            }
          },
          "metadata": {},
          "execution_count": 8
        }
      ]
    },
    {
      "cell_type": "code",
      "source": [
        "# r.randint(a, b)\n",
        "# 1,2,3,4,5,6,7,8,9,10\n",
        "r.randint(1, 10)"
      ],
      "metadata": {
        "colab": {
          "base_uri": "https://localhost:8080/"
        },
        "id": "t0pXJKB90FTw",
        "outputId": "d8f82988-0a90-42f4-d42f-43b191932bc7"
      },
      "execution_count": null,
      "outputs": [
        {
          "output_type": "execute_result",
          "data": {
            "text/plain": [
              "9"
            ]
          },
          "metadata": {},
          "execution_count": 9
        }
      ]
    },
    {
      "cell_type": "code",
      "source": [
        "# SIMULACION DEL LANZAMIENTO DE UNA DADO\n",
        "r.randint(1, 6)"
      ],
      "metadata": {
        "colab": {
          "base_uri": "https://localhost:8080/"
        },
        "id": "8q3PXcDE0Wye",
        "outputId": "2244c7b1-f2a3-4cdb-acaf-b3de7a97d81c"
      },
      "execution_count": null,
      "outputs": [
        {
          "output_type": "execute_result",
          "data": {
            "text/plain": [
              "4"
            ]
          },
          "metadata": {},
          "execution_count": 10
        }
      ]
    },
    {
      "cell_type": "code",
      "source": [
        "# \"generar\" un numero aleatorio del 0 al 1 decimal\n",
        "r.random()"
      ],
      "metadata": {
        "colab": {
          "base_uri": "https://localhost:8080/"
        },
        "id": "EzKYYexc0oRg",
        "outputId": "d3044b06-fb8f-4191-8b8b-10eeceb05d8b"
      },
      "execution_count": null,
      "outputs": [
        {
          "output_type": "execute_result",
          "data": {
            "text/plain": [
              "0.2838958738966548"
            ]
          },
          "metadata": {},
          "execution_count": 12
        }
      ]
    },
    {
      "cell_type": "code",
      "source": [
        "r.random() * r.randint(100, 10000)"
      ],
      "metadata": {
        "colab": {
          "base_uri": "https://localhost:8080/"
        },
        "id": "tYxbGwM201c6",
        "outputId": "06e764da-84c5-4488-d8ae-bf864a346673"
      },
      "execution_count": null,
      "outputs": [
        {
          "output_type": "execute_result",
          "data": {
            "text/plain": [
              "1759.9223994355382"
            ]
          },
          "metadata": {},
          "execution_count": 30
        }
      ]
    },
    {
      "cell_type": "code",
      "source": [
        "# round(valor a redondear, numero de decimales a redonder): redondear\n",
        "precio1 = r.random() * r.randint(100, 10000)\n",
        "precio1"
      ],
      "metadata": {
        "colab": {
          "base_uri": "https://localhost:8080/"
        },
        "id": "5DHLZaH01Cas",
        "outputId": "b870d6d4-cbe7-4f91-eca1-ba09301b6e68"
      },
      "execution_count": null,
      "outputs": [
        {
          "output_type": "execute_result",
          "data": {
            "text/plain": [
              "6221.543599379029"
            ]
          },
          "metadata": {},
          "execution_count": 31
        }
      ]
    },
    {
      "cell_type": "code",
      "source": [
        "round(r.random() * r.randint(100, 10000), 2)"
      ],
      "metadata": {
        "id": "Pxp41dzy6xXE"
      },
      "execution_count": null,
      "outputs": []
    },
    {
      "cell_type": "code",
      "source": [
        "precio1 = round(precio1, 2)\n",
        "precio1"
      ],
      "metadata": {
        "colab": {
          "base_uri": "https://localhost:8080/"
        },
        "id": "TWzPTXdA1IfD",
        "outputId": "d9d5c80a-7c3e-44b2-cf99-8ebb299ebbe9"
      },
      "execution_count": null,
      "outputs": [
        {
          "output_type": "execute_result",
          "data": {
            "text/plain": [
              "6221.54"
            ]
          },
          "metadata": {},
          "execution_count": 33
        }
      ]
    },
    {
      "cell_type": "code",
      "source": [
        "cantidad_vendida1 = r.randint(1, 20)\n",
        "cantidad_vendida1"
      ],
      "metadata": {
        "colab": {
          "base_uri": "https://localhost:8080/"
        },
        "id": "EwLv7RZW1Xhk",
        "outputId": "5e263a56-882f-41e9-fc4a-6ffcce996eef"
      },
      "execution_count": null,
      "outputs": [
        {
          "output_type": "execute_result",
          "data": {
            "text/plain": [
              "1"
            ]
          },
          "metadata": {},
          "execution_count": 34
        }
      ]
    },
    {
      "cell_type": "code",
      "source": [
        "# float(): convierte strings numericos: \"3\", \"3.1416\", a numeros flotantes\n",
        "# int(): convierte strings numericos enteros: \"3\", \"6\", a numeros enteros\n",
        "# str(): te convierte numeros a cadenas de texto"
      ],
      "metadata": {
        "colab": {
          "base_uri": "https://localhost:8080/"
        },
        "id": "PCjVhx7K3ChU",
        "outputId": "2b78313c-14b5-4507-84b4-12e0408cb2e8"
      },
      "execution_count": null,
      "outputs": [
        {
          "output_type": "execute_result",
          "data": {
            "text/plain": [
              "4"
            ]
          },
          "metadata": {},
          "execution_count": 39
        }
      ]
    },
    {
      "cell_type": "code",
      "source": [
        "edad = int(input(\"Por favor, ingresa tu edad: \"))\n",
        "edad_posterior = edad + 10\n",
        "mensaje = \"Tu edad dentro de diez años es de \" + str(edad_posterior)\n",
        "mensaje"
      ],
      "metadata": {
        "colab": {
          "base_uri": "https://localhost:8080/",
          "height": 53
        },
        "id": "UCApWc-82pLr",
        "outputId": "c8c04c7a-fc54-4db7-a3f1-e48e45e73abb"
      },
      "execution_count": null,
      "outputs": [
        {
          "name": "stdout",
          "output_type": "stream",
          "text": [
            "Por favor, ingresa tu edad: 27\n"
          ]
        },
        {
          "output_type": "execute_result",
          "data": {
            "text/plain": [
              "'Tu edad dentro de diez años es de 37'"
            ],
            "application/vnd.google.colaboratory.intrinsic+json": {
              "type": "string"
            }
          },
          "metadata": {},
          "execution_count": 47
        }
      ]
    },
    {
      "cell_type": "code",
      "source": [
        "\"hola\" + 1"
      ],
      "metadata": {
        "colab": {
          "base_uri": "https://localhost:8080/",
          "height": 141
        },
        "id": "QVgjEv8o2hAW",
        "outputId": "f737441a-ddca-4c4f-8ccb-504166a730aa"
      },
      "execution_count": null,
      "outputs": [
        {
          "output_type": "error",
          "ename": "TypeError",
          "evalue": "can only concatenate str (not \"int\") to str",
          "traceback": [
            "\u001b[0;31m---------------------------------------------------------------------------\u001b[0m",
            "\u001b[0;31mTypeError\u001b[0m                                 Traceback (most recent call last)",
            "\u001b[0;32m<ipython-input-35-284845977955>\u001b[0m in \u001b[0;36m<cell line: 1>\u001b[0;34m()\u001b[0m\n\u001b[0;32m----> 1\u001b[0;31m \u001b[0;34m\"hola\"\u001b[0m \u001b[0;34m+\u001b[0m \u001b[0;36m1\u001b[0m\u001b[0;34m\u001b[0m\u001b[0;34m\u001b[0m\u001b[0m\n\u001b[0m",
            "\u001b[0;31mTypeError\u001b[0m: can only concatenate str (not \"int\") to str"
          ]
        }
      ]
    },
    {
      "cell_type": "code",
      "source": [
        "# Clave producto: AZT-123 ---> (1,9)\n",
        "# utilizaremos la lista: abcdario\n",
        "#                    una letra             segunda letra     tercer letra\n",
        "clave_producto1 = r.choice(abcdario) + r.choice(abcdario) + r.choice(abcdario) + \"-\" + str(r.randint(1,9)) + str(r.randint(1,9)) + str(r.randint(1,9))\n",
        "clave_producto1"
      ],
      "metadata": {
        "colab": {
          "base_uri": "https://localhost:8080/",
          "height": 35
        },
        "id": "tgnhqcmy1nYo",
        "outputId": "f4f4ec08-807f-43cc-fab1-6b2afa8de2ab"
      },
      "execution_count": null,
      "outputs": [
        {
          "output_type": "execute_result",
          "data": {
            "text/plain": [
              "'DMR-289'"
            ],
            "application/vnd.google.colaboratory.intrinsic+json": {
              "type": "string"
            }
          },
          "metadata": {},
          "execution_count": 49
        }
      ]
    },
    {
      "cell_type": "code",
      "source": [
        "r.choice(papelerias)"
      ],
      "metadata": {
        "colab": {
          "base_uri": "https://localhost:8080/",
          "height": 35
        },
        "id": "kEBl3nkN5jTL",
        "outputId": "6776d9d3-abf4-4532-ab0a-9dcd02eab49d"
      },
      "execution_count": null,
      "outputs": [
        {
          "output_type": "execute_result",
          "data": {
            "text/plain": [
              "'Narvarte'"
            ],
            "application/vnd.google.colaboratory.intrinsic+json": {
              "type": "string"
            }
          },
          "metadata": {},
          "execution_count": 63
        }
      ]
    },
    {
      "cell_type": "code",
      "source": [
        "# strings multilinea \"\"\" \"\"\", ''' '''\n",
        "mensaje_multilinea = \"\"\"\n",
        "Hola,\n",
        "Mundo,\n",
        "Luis\n",
        "\"\"\"\n",
        "\n",
        "print(mensaje_multilinea)"
      ],
      "metadata": {
        "colab": {
          "base_uri": "https://localhost:8080/"
        },
        "id": "j0-1EXiw44fj",
        "outputId": "93e4337a-b0f0-4186-a784-ce3458bdf00b"
      },
      "execution_count": null,
      "outputs": [
        {
          "output_type": "stream",
          "name": "stdout",
          "text": [
            " \n",
            "Hola,\n",
            "Mundo,\n",
            "Luis\n",
            "\n"
          ]
        }
      ]
    },
    {
      "cell_type": "code",
      "source": [
        "# strings estaticos\n",
        "\"hola Luis\""
      ],
      "metadata": {
        "colab": {
          "base_uri": "https://localhost:8080/",
          "height": 35
        },
        "id": "FqV3O31k5tjj",
        "outputId": "baf7a8f4-3716-46ae-fcce-991f497fa1ac"
      },
      "execution_count": null,
      "outputs": [
        {
          "output_type": "execute_result",
          "data": {
            "text/plain": [
              "'hola Luis'"
            ],
            "application/vnd.google.colaboratory.intrinsic+json": {
              "type": "string"
            }
          },
          "metadata": {},
          "execution_count": 67
        }
      ]
    },
    {
      "cell_type": "code",
      "source": [
        "# f-strings: strings variables o dinamicos\n",
        "f\"\""
      ],
      "metadata": {
        "id": "v65ZIObi56iF"
      },
      "execution_count": null,
      "outputs": []
    },
    {
      "cell_type": "code",
      "source": [
        "nombre = \"Luis\"\n",
        "f\"Hola {nombre}\""
      ],
      "metadata": {
        "colab": {
          "base_uri": "https://localhost:8080/",
          "height": 35
        },
        "id": "ZuOo9qbv6AEs",
        "outputId": "cd1d88dc-15ff-4d0a-95ad-97264cb54127"
      },
      "execution_count": null,
      "outputs": [
        {
          "output_type": "execute_result",
          "data": {
            "text/plain": [
              "'Hola Luis'"
            ],
            "application/vnd.google.colaboratory.intrinsic+json": {
              "type": "string"
            }
          },
          "metadata": {},
          "execution_count": 70
        }
      ]
    },
    {
      "cell_type": "code",
      "source": [
        "f\"256*1279={256*1279}\""
      ],
      "metadata": {
        "colab": {
          "base_uri": "https://localhost:8080/",
          "height": 35
        },
        "id": "su0JUPIc6O_r",
        "outputId": "b7b49a2e-989b-446a-c4c3-fb00845375e1"
      },
      "execution_count": null,
      "outputs": [
        {
          "output_type": "execute_result",
          "data": {
            "text/plain": [
              "'256*1279=327424'"
            ],
            "application/vnd.google.colaboratory.intrinsic+json": {
              "type": "string"
            }
          },
          "metadata": {},
          "execution_count": 72
        }
      ]
    },
    {
      "cell_type": "code",
      "source": [
        "ticket = f\"\"\"\n",
        "Fecha: 2025-01-04\n",
        "\n",
        "Sucursal: {r.choice(papelerias)}\n",
        "\n",
        "Producto: {r.choice(lineas)}\n",
        "\n",
        "Clave producto: {r.choice(abcdario) + r.choice(abcdario) + r.choice(abcdario) + \"-\" + str(r.randint(1,9)) + str(r.randint(1,9)) + str(r.randint(1,9))}\n",
        "\n",
        "Precio: {round(r.random() * r.randint(100, 10000), 2)}\n",
        "\n",
        "Cantidad vendida: {r.randint(1, 1000)}\n",
        "\"\"\"\n",
        "\n",
        "print(ticket)"
      ],
      "metadata": {
        "colab": {
          "base_uri": "https://localhost:8080/"
        },
        "id": "OvmUN1c85Zx8",
        "outputId": "795b0fad-4fca-432d-db99-8dd0fa04b473"
      },
      "execution_count": null,
      "outputs": [
        {
          "output_type": "stream",
          "name": "stdout",
          "text": [
            "\n",
            "Fecha: 2025-01-04\n",
            "\n",
            "Sucursal: Santa Fé\n",
            "\n",
            "Producto: Borradores\n",
            "\n",
            "Clave producto: RRF-188\n",
            "\n",
            "Precio: 4100.34\n",
            "\n",
            "Cantidad vendida: 262\n",
            "\n"
          ]
        }
      ]
    },
    {
      "cell_type": "markdown",
      "source": [
        "## 3. Llenar tablas de información con las ventas"
      ],
      "metadata": {
        "id": "DsrgD6aE73-I"
      }
    },
    {
      "cell_type": "code",
      "source": [
        "# Definimos una variable para almacenar la fecha de reporte\n",
        "fecha = \"2025-01-04\"\n",
        "\n",
        "# codigo para seleccionar aleatoriamente una sucursal de papeleria\n",
        "sucursal = r.choice(papelerias)\n",
        "\n",
        "# seleccionar aleatoriamente un producto de venta\n",
        "producto = r.choice(lineas)\n",
        "\n",
        "# generamos una clave dle producto de la forma ABX-123\n",
        "clave_producto = r.choice(abcdario) + r.choice(abcdario) + r.choice(abcdario) + \"-\" + str(r.randint(1,9)) + str(r.randint(1,9)) + str(r.randint(1,9))\n",
        "\n",
        "# simulamos el precio del producto y redondeamos a dos decimales\n",
        "precio = round(r.random() * r.randint(100, 10000), 2)\n",
        "\n",
        "# simulamos la cantidad de producto vendido\n",
        "cantidad_vendida = r.randint(1, 1000)\n",
        "\n",
        "# Calculamos el total\n",
        "total_ticket = precio * cantidad_vendida"
      ],
      "metadata": {
        "id": "_z87XbnN8Eaw"
      },
      "execution_count": null,
      "outputs": []
    },
    {
      "cell_type": "markdown",
      "source": [
        "### Listas vacías y agregar elementos a una lista"
      ],
      "metadata": {
        "id": "ahMzyOr1-FOK"
      }
    },
    {
      "cell_type": "code",
      "source": [
        "lista1 = [12, 34, \"Hola\"]\n",
        "print(lista1)\n",
        "\n",
        "# .append() podemos agregar elementos nuevos a nuestras listas\n",
        "lista1.append(\"Luis\")\n",
        "print(lista1)"
      ],
      "metadata": {
        "colab": {
          "base_uri": "https://localhost:8080/"
        },
        "id": "O38zNfsl-IA8",
        "outputId": "71ffaf03-51e8-40bb-fa41-7ce53aaf746e"
      },
      "execution_count": null,
      "outputs": [
        {
          "output_type": "stream",
          "name": "stdout",
          "text": [
            "[12, 34, 'Hola']\n",
            "[12, 34, 'Hola', 'Luis']\n"
          ]
        }
      ]
    },
    {
      "cell_type": "code",
      "source": [
        "# lista vacia\n",
        "lista2 = []\n",
        "lista2"
      ],
      "metadata": {
        "colab": {
          "base_uri": "https://localhost:8080/"
        },
        "id": "jrT_OgmK-X2s",
        "outputId": "376bbfe2-5e0a-4163-df4a-6658620f84c1"
      },
      "execution_count": null,
      "outputs": [
        {
          "output_type": "execute_result",
          "data": {
            "text/plain": [
              "[]"
            ]
          },
          "metadata": {},
          "execution_count": 101
        }
      ]
    },
    {
      "cell_type": "markdown",
      "source": [
        "## Bucles For\n",
        "\n",
        "![image.png](data:image/png;base64,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)"
      ],
      "metadata": {
        "id": "N4KOpuIR-hqh"
      }
    },
    {
      "cell_type": "code",
      "source": [
        "recorrido1 = [1,2,3,4,5,6,7,8,9,10]\n",
        "\n",
        "# range(a,b): generando rangos consecutivos numericos\n",
        "# generar el rango que comienza en el numero a y termina en el numero b-1\n",
        "# range(1, 5): 1,2,3,4\n",
        "\n",
        "recorrido2 = range(1, 11)\n",
        "\n",
        "print(recorrido1)\n",
        "print(recorrido2)"
      ],
      "metadata": {
        "colab": {
          "base_uri": "https://localhost:8080/"
        },
        "id": "RbFiewlv_yyb",
        "outputId": "4e09e255-942b-43cf-ee10-69557fffd519"
      },
      "execution_count": null,
      "outputs": [
        {
          "output_type": "stream",
          "name": "stdout",
          "text": [
            "[1, 2, 3, 4, 5, 6, 7, 8, 9, 10]\n",
            "range(1, 11)\n"
          ]
        }
      ]
    },
    {
      "cell_type": "code",
      "source": [
        "#        range(1, 5)--->1,2,3,4\n",
        "for i in range(1, 5):\n",
        "  # colocar la instruccion a repetir\n",
        "  print(\"Hola\")"
      ],
      "metadata": {
        "colab": {
          "base_uri": "https://localhost:8080/"
        },
        "id": "qYvS625pAaWD",
        "outputId": "db7e3677-78dd-4af0-c1dd-bcbd5ff2f91b"
      },
      "execution_count": null,
      "outputs": [
        {
          "output_type": "stream",
          "name": "stdout",
          "text": [
            "Hola\n",
            "Hola\n",
            "Hola\n",
            "Hola\n"
          ]
        }
      ]
    },
    {
      "cell_type": "code",
      "source": [
        "lista1 = []\n",
        "# i=1\n",
        "# i=2\n",
        "# i=3\n",
        "for i in range(1, 4):\n",
        "  lista1.append(i ** 2)\n",
        "\n",
        "lista1"
      ],
      "metadata": {
        "colab": {
          "base_uri": "https://localhost:8080/"
        },
        "id": "OMZQgwjoA9-z",
        "outputId": "dd19e185-3bf4-4910-9aad-80b3feafaf32"
      },
      "execution_count": null,
      "outputs": [
        {
          "output_type": "execute_result",
          "data": {
            "text/plain": [
              "[1, 4, 9]"
            ]
          },
          "metadata": {},
          "execution_count": 110
        }
      ]
    },
    {
      "cell_type": "markdown",
      "source": [
        "Genera una lista con los primeros 100 números cuadrados enteros"
      ],
      "metadata": {
        "id": "CDA-o2kCBlF1"
      }
    },
    {
      "cell_type": "code",
      "source": [
        "cuadrados = []\n",
        "for i in range(1, 11):\n",
        "  cuadrados.append(i ** 2)\n",
        "\n",
        "cuadrados"
      ],
      "metadata": {
        "colab": {
          "base_uri": "https://localhost:8080/"
        },
        "id": "Y_89UKYOBpM2",
        "outputId": "08b537f0-0e51-4649-d0b2-75ac9840ad76"
      },
      "execution_count": null,
      "outputs": [
        {
          "output_type": "execute_result",
          "data": {
            "text/plain": [
              "[1, 4, 9, 16, 25, 36, 49, 64, 81, 100]"
            ]
          },
          "metadata": {},
          "execution_count": 112
        }
      ]
    },
    {
      "cell_type": "code",
      "source": [
        "fechas = []\n",
        "sucursales = []\n",
        "productos = []\n",
        "claves_producto = []\n",
        "precios = []\n",
        "cantidades_vendidas = []\n",
        "totales_ticket = []\n",
        "\n",
        "for i in range(1, 1001):\n",
        "  # 1. Generamos la informacion simulada\n",
        "  fecha = \"2025-01-04\"\n",
        "  sucursal = r.choice(papelerias)\n",
        "  producto = r.choice(lineas)\n",
        "  clave_producto = r.choice(abcdario) + r.choice(abcdario) + r.choice(abcdario) + \"-\" + str(r.randint(1,9)) + str(r.randint(1,9)) + str(r.randint(1,9))\n",
        "  precio = round(r.random() * r.randint(100, 10000), 2)\n",
        "  cantidad_vendida = r.randint(1, 1000)\n",
        "  total_ticket = precio * cantidad_vendida\n",
        "  # 2. La agregamos a nuestrras listas vacias\n",
        "  fechas.append(fecha)\n",
        "  sucursales.append(sucursal)\n",
        "  productos.append(producto)\n",
        "  claves_producto.append(clave_producto)\n",
        "  precios.append(precio)\n",
        "  cantidades_vendidas.append(cantidad_vendida)\n",
        "  totales_ticket.append(total_ticket)"
      ],
      "metadata": {
        "id": "vg3UNZXvB-ey"
      },
      "execution_count": null,
      "outputs": []
    },
    {
      "cell_type": "code",
      "source": [
        "print(len(fechas), len(cantidades_vendidas))"
      ],
      "metadata": {
        "colab": {
          "base_uri": "https://localhost:8080/"
        },
        "id": "2Mlwb7MxCy3P",
        "outputId": "79ef6a62-2922-4762-870d-1b152b36f6bb"
      },
      "execution_count": null,
      "outputs": [
        {
          "output_type": "stream",
          "name": "stdout",
          "text": [
            "1000 1000\n"
          ]
        }
      ]
    },
    {
      "cell_type": "code",
      "source": [
        "import pandas as pd\n",
        "\n",
        "# diccionario con la estructura del dataframe\n",
        "diccionario_ventas_df = {\n",
        "    \"Fecha\": fechas,\n",
        "    \"Sucursal\": sucursales,\n",
        "    \"Producto\": productos,\n",
        "    \"Clave_Producto\": claves_producto,\n",
        "    \"Precio\": precios,\n",
        "    \"Cantidad_Vendida\": cantidades_vendidas,\n",
        "    \"Total_Ticket\": totales_ticket\n",
        "}\n",
        "\n",
        "# Crearemos el dataframe\n",
        "df_ventas = pd.DataFrame(diccionario_ventas_df)\n",
        "df_ventas"
      ],
      "metadata": {
        "colab": {
          "base_uri": "https://localhost:8080/",
          "height": 423
        },
        "id": "OuMePMuQ9BL5",
        "outputId": "4bb53fd5-d194-4629-8c58-686a2d12059d"
      },
      "execution_count": null,
      "outputs": [
        {
          "output_type": "execute_result",
          "data": {
            "text/plain": [
              "          Fecha    Sucursal    Producto Clave_Producto   Precio  \\\n",
              "0    2025-01-04    Narvarte    Mochilas        QSK-156  3678.58   \n",
              "1    2025-01-04    Santa Fé   Uniformes        WJA-577   225.62   \n",
              "2    2025-01-04      Zócalo    Pinturas        WCN-925  1620.51   \n",
              "3    2025-01-04          CU     Laptops        NLD-623  2691.54   \n",
              "4    2025-01-04     Polanco       Mouse        DFN-794  1619.35   \n",
              "..          ...         ...         ...            ...      ...   \n",
              "995  2025-01-04  Xochimilco   Uniformes        NNS-133  1150.79   \n",
              "996  2025-01-04  Milpa Alta  Borradores        QOS-133   376.68   \n",
              "997  2025-01-04     Polanco    Baterías        IEN-378  3847.86   \n",
              "998  2025-01-04      Zócalo       Mouse        RNW-264  1209.13   \n",
              "999  2025-01-04  Milpa Alta       Cajas        UZD-325   108.69   \n",
              "\n",
              "     Cantidad_Vendida  Total_Ticket  \n",
              "0                 681    2505112.98  \n",
              "1                 306      69039.72  \n",
              "2                 738    1195936.38  \n",
              "3                 760    2045570.40  \n",
              "4                 762    1233944.70  \n",
              "..                ...           ...  \n",
              "995               243     279641.97  \n",
              "996                49      18457.32  \n",
              "997               658    2531891.88  \n",
              "998               889    1074916.57  \n",
              "999               194      21085.86  \n",
              "\n",
              "[1000 rows x 7 columns]"
            ],
            "text/html": [
              "\n",
              "  <div id=\"df-5d58c618-9ee2-4d4e-ac5c-6e1d699ab969\" class=\"colab-df-container\">\n",
              "    <div>\n",
              "<style scoped>\n",
              "    .dataframe tbody tr th:only-of-type {\n",
              "        vertical-align: middle;\n",
              "    }\n",
              "\n",
              "    .dataframe tbody tr th {\n",
              "        vertical-align: top;\n",
              "    }\n",
              "\n",
              "    .dataframe thead th {\n",
              "        text-align: right;\n",
              "    }\n",
              "</style>\n",
              "<table border=\"1\" class=\"dataframe\">\n",
              "  <thead>\n",
              "    <tr style=\"text-align: right;\">\n",
              "      <th></th>\n",
              "      <th>Fecha</th>\n",
              "      <th>Sucursal</th>\n",
              "      <th>Producto</th>\n",
              "      <th>Clave_Producto</th>\n",
              "      <th>Precio</th>\n",
              "      <th>Cantidad_Vendida</th>\n",
              "      <th>Total_Ticket</th>\n",
              "    </tr>\n",
              "  </thead>\n",
              "  <tbody>\n",
              "    <tr>\n",
              "      <th>0</th>\n",
              "      <td>2025-01-04</td>\n",
              "      <td>Narvarte</td>\n",
              "      <td>Mochilas</td>\n",
              "      <td>QSK-156</td>\n",
              "      <td>3678.58</td>\n",
              "      <td>681</td>\n",
              "      <td>2505112.98</td>\n",
              "    </tr>\n",
              "    <tr>\n",
              "      <th>1</th>\n",
              "      <td>2025-01-04</td>\n",
              "      <td>Santa Fé</td>\n",
              "      <td>Uniformes</td>\n",
              "      <td>WJA-577</td>\n",
              "      <td>225.62</td>\n",
              "      <td>306</td>\n",
              "      <td>69039.72</td>\n",
              "    </tr>\n",
              "    <tr>\n",
              "      <th>2</th>\n",
              "      <td>2025-01-04</td>\n",
              "      <td>Zócalo</td>\n",
              "      <td>Pinturas</td>\n",
              "      <td>WCN-925</td>\n",
              "      <td>1620.51</td>\n",
              "      <td>738</td>\n",
              "      <td>1195936.38</td>\n",
              "    </tr>\n",
              "    <tr>\n",
              "      <th>3</th>\n",
              "      <td>2025-01-04</td>\n",
              "      <td>CU</td>\n",
              "      <td>Laptops</td>\n",
              "      <td>NLD-623</td>\n",
              "      <td>2691.54</td>\n",
              "      <td>760</td>\n",
              "      <td>2045570.40</td>\n",
              "    </tr>\n",
              "    <tr>\n",
              "      <th>4</th>\n",
              "      <td>2025-01-04</td>\n",
              "      <td>Polanco</td>\n",
              "      <td>Mouse</td>\n",
              "      <td>DFN-794</td>\n",
              "      <td>1619.35</td>\n",
              "      <td>762</td>\n",
              "      <td>1233944.70</td>\n",
              "    </tr>\n",
              "    <tr>\n",
              "      <th>...</th>\n",
              "      <td>...</td>\n",
              "      <td>...</td>\n",
              "      <td>...</td>\n",
              "      <td>...</td>\n",
              "      <td>...</td>\n",
              "      <td>...</td>\n",
              "      <td>...</td>\n",
              "    </tr>\n",
              "    <tr>\n",
              "      <th>995</th>\n",
              "      <td>2025-01-04</td>\n",
              "      <td>Xochimilco</td>\n",
              "      <td>Uniformes</td>\n",
              "      <td>NNS-133</td>\n",
              "      <td>1150.79</td>\n",
              "      <td>243</td>\n",
              "      <td>279641.97</td>\n",
              "    </tr>\n",
              "    <tr>\n",
              "      <th>996</th>\n",
              "      <td>2025-01-04</td>\n",
              "      <td>Milpa Alta</td>\n",
              "      <td>Borradores</td>\n",
              "      <td>QOS-133</td>\n",
              "      <td>376.68</td>\n",
              "      <td>49</td>\n",
              "      <td>18457.32</td>\n",
              "    </tr>\n",
              "    <tr>\n",
              "      <th>997</th>\n",
              "      <td>2025-01-04</td>\n",
              "      <td>Polanco</td>\n",
              "      <td>Baterías</td>\n",
              "      <td>IEN-378</td>\n",
              "      <td>3847.86</td>\n",
              "      <td>658</td>\n",
              "      <td>2531891.88</td>\n",
              "    </tr>\n",
              "    <tr>\n",
              "      <th>998</th>\n",
              "      <td>2025-01-04</td>\n",
              "      <td>Zócalo</td>\n",
              "      <td>Mouse</td>\n",
              "      <td>RNW-264</td>\n",
              "      <td>1209.13</td>\n",
              "      <td>889</td>\n",
              "      <td>1074916.57</td>\n",
              "    </tr>\n",
              "    <tr>\n",
              "      <th>999</th>\n",
              "      <td>2025-01-04</td>\n",
              "      <td>Milpa Alta</td>\n",
              "      <td>Cajas</td>\n",
              "      <td>UZD-325</td>\n",
              "      <td>108.69</td>\n",
              "      <td>194</td>\n",
              "      <td>21085.86</td>\n",
              "    </tr>\n",
              "  </tbody>\n",
              "</table>\n",
              "<p>1000 rows × 7 columns</p>\n",
              "</div>\n",
              "    <div class=\"colab-df-buttons\">\n",
              "\n",
              "  <div class=\"colab-df-container\">\n",
              "    <button class=\"colab-df-convert\" onclick=\"convertToInteractive('df-5d58c618-9ee2-4d4e-ac5c-6e1d699ab969')\"\n",
              "            title=\"Convert this dataframe to an interactive table.\"\n",
              "            style=\"display:none;\">\n",
              "\n",
              "  <svg xmlns=\"http://www.w3.org/2000/svg\" height=\"24px\" viewBox=\"0 -960 960 960\">\n",
              "    <path d=\"M120-120v-720h720v720H120Zm60-500h600v-160H180v160Zm220 220h160v-160H400v160Zm0 220h160v-160H400v160ZM180-400h160v-160H180v160Zm440 0h160v-160H620v160ZM180-180h160v-160H180v160Zm440 0h160v-160H620v160Z\"/>\n",
              "  </svg>\n",
              "    </button>\n",
              "\n",
              "  <style>\n",
              "    .colab-df-container {\n",
              "      display:flex;\n",
              "      gap: 12px;\n",
              "    }\n",
              "\n",
              "    .colab-df-convert {\n",
              "      background-color: #E8F0FE;\n",
              "      border: none;\n",
              "      border-radius: 50%;\n",
              "      cursor: pointer;\n",
              "      display: none;\n",
              "      fill: #1967D2;\n",
              "      height: 32px;\n",
              "      padding: 0 0 0 0;\n",
              "      width: 32px;\n",
              "    }\n",
              "\n",
              "    .colab-df-convert:hover {\n",
              "      background-color: #E2EBFA;\n",
              "      box-shadow: 0px 1px 2px rgba(60, 64, 67, 0.3), 0px 1px 3px 1px rgba(60, 64, 67, 0.15);\n",
              "      fill: #174EA6;\n",
              "    }\n",
              "\n",
              "    .colab-df-buttons div {\n",
              "      margin-bottom: 4px;\n",
              "    }\n",
              "\n",
              "    [theme=dark] .colab-df-convert {\n",
              "      background-color: #3B4455;\n",
              "      fill: #D2E3FC;\n",
              "    }\n",
              "\n",
              "    [theme=dark] .colab-df-convert:hover {\n",
              "      background-color: #434B5C;\n",
              "      box-shadow: 0px 1px 3px 1px rgba(0, 0, 0, 0.15);\n",
              "      filter: drop-shadow(0px 1px 2px rgba(0, 0, 0, 0.3));\n",
              "      fill: #FFFFFF;\n",
              "    }\n",
              "  </style>\n",
              "\n",
              "    <script>\n",
              "      const buttonEl =\n",
              "        document.querySelector('#df-5d58c618-9ee2-4d4e-ac5c-6e1d699ab969 button.colab-df-convert');\n",
              "      buttonEl.style.display =\n",
              "        google.colab.kernel.accessAllowed ? 'block' : 'none';\n",
              "\n",
              "      async function convertToInteractive(key) {\n",
              "        const element = document.querySelector('#df-5d58c618-9ee2-4d4e-ac5c-6e1d699ab969');\n",
              "        const dataTable =\n",
              "          await google.colab.kernel.invokeFunction('convertToInteractive',\n",
              "                                                    [key], {});\n",
              "        if (!dataTable) return;\n",
              "\n",
              "        const docLinkHtml = 'Like what you see? Visit the ' +\n",
              "          '<a target=\"_blank\" href=https://colab.research.google.com/notebooks/data_table.ipynb>data table notebook</a>'\n",
              "          + ' to learn more about interactive tables.';\n",
              "        element.innerHTML = '';\n",
              "        dataTable['output_type'] = 'display_data';\n",
              "        await google.colab.output.renderOutput(dataTable, element);\n",
              "        const docLink = document.createElement('div');\n",
              "        docLink.innerHTML = docLinkHtml;\n",
              "        element.appendChild(docLink);\n",
              "      }\n",
              "    </script>\n",
              "  </div>\n",
              "\n",
              "\n",
              "<div id=\"df-6e6b70d8-829a-42d3-ab4b-3d0b013223f2\">\n",
              "  <button class=\"colab-df-quickchart\" onclick=\"quickchart('df-6e6b70d8-829a-42d3-ab4b-3d0b013223f2')\"\n",
              "            title=\"Suggest charts\"\n",
              "            style=\"display:none;\">\n",
              "\n",
              "<svg xmlns=\"http://www.w3.org/2000/svg\" height=\"24px\"viewBox=\"0 0 24 24\"\n",
              "     width=\"24px\">\n",
              "    <g>\n",
              "        <path d=\"M19 3H5c-1.1 0-2 .9-2 2v14c0 1.1.9 2 2 2h14c1.1 0 2-.9 2-2V5c0-1.1-.9-2-2-2zM9 17H7v-7h2v7zm4 0h-2V7h2v10zm4 0h-2v-4h2v4z\"/>\n",
              "    </g>\n",
              "</svg>\n",
              "  </button>\n",
              "\n",
              "<style>\n",
              "  .colab-df-quickchart {\n",
              "      --bg-color: #E8F0FE;\n",
              "      --fill-color: #1967D2;\n",
              "      --hover-bg-color: #E2EBFA;\n",
              "      --hover-fill-color: #174EA6;\n",
              "      --disabled-fill-color: #AAA;\n",
              "      --disabled-bg-color: #DDD;\n",
              "  }\n",
              "\n",
              "  [theme=dark] .colab-df-quickchart {\n",
              "      --bg-color: #3B4455;\n",
              "      --fill-color: #D2E3FC;\n",
              "      --hover-bg-color: #434B5C;\n",
              "      --hover-fill-color: #FFFFFF;\n",
              "      --disabled-bg-color: #3B4455;\n",
              "      --disabled-fill-color: #666;\n",
              "  }\n",
              "\n",
              "  .colab-df-quickchart {\n",
              "    background-color: var(--bg-color);\n",
              "    border: none;\n",
              "    border-radius: 50%;\n",
              "    cursor: pointer;\n",
              "    display: none;\n",
              "    fill: var(--fill-color);\n",
              "    height: 32px;\n",
              "    padding: 0;\n",
              "    width: 32px;\n",
              "  }\n",
              "\n",
              "  .colab-df-quickchart:hover {\n",
              "    background-color: var(--hover-bg-color);\n",
              "    box-shadow: 0 1px 2px rgba(60, 64, 67, 0.3), 0 1px 3px 1px rgba(60, 64, 67, 0.15);\n",
              "    fill: var(--button-hover-fill-color);\n",
              "  }\n",
              "\n",
              "  .colab-df-quickchart-complete:disabled,\n",
              "  .colab-df-quickchart-complete:disabled:hover {\n",
              "    background-color: var(--disabled-bg-color);\n",
              "    fill: var(--disabled-fill-color);\n",
              "    box-shadow: none;\n",
              "  }\n",
              "\n",
              "  .colab-df-spinner {\n",
              "    border: 2px solid var(--fill-color);\n",
              "    border-color: transparent;\n",
              "    border-bottom-color: var(--fill-color);\n",
              "    animation:\n",
              "      spin 1s steps(1) infinite;\n",
              "  }\n",
              "\n",
              "  @keyframes spin {\n",
              "    0% {\n",
              "      border-color: transparent;\n",
              "      border-bottom-color: var(--fill-color);\n",
              "      border-left-color: var(--fill-color);\n",
              "    }\n",
              "    20% {\n",
              "      border-color: transparent;\n",
              "      border-left-color: var(--fill-color);\n",
              "      border-top-color: var(--fill-color);\n",
              "    }\n",
              "    30% {\n",
              "      border-color: transparent;\n",
              "      border-left-color: var(--fill-color);\n",
              "      border-top-color: var(--fill-color);\n",
              "      border-right-color: var(--fill-color);\n",
              "    }\n",
              "    40% {\n",
              "      border-color: transparent;\n",
              "      border-right-color: var(--fill-color);\n",
              "      border-top-color: var(--fill-color);\n",
              "    }\n",
              "    60% {\n",
              "      border-color: transparent;\n",
              "      border-right-color: var(--fill-color);\n",
              "    }\n",
              "    80% {\n",
              "      border-color: transparent;\n",
              "      border-right-color: var(--fill-color);\n",
              "      border-bottom-color: var(--fill-color);\n",
              "    }\n",
              "    90% {\n",
              "      border-color: transparent;\n",
              "      border-bottom-color: var(--fill-color);\n",
              "    }\n",
              "  }\n",
              "</style>\n",
              "\n",
              "  <script>\n",
              "    async function quickchart(key) {\n",
              "      const quickchartButtonEl =\n",
              "        document.querySelector('#' + key + ' button');\n",
              "      quickchartButtonEl.disabled = true;  // To prevent multiple clicks.\n",
              "      quickchartButtonEl.classList.add('colab-df-spinner');\n",
              "      try {\n",
              "        const charts = await google.colab.kernel.invokeFunction(\n",
              "            'suggestCharts', [key], {});\n",
              "      } catch (error) {\n",
              "        console.error('Error during call to suggestCharts:', error);\n",
              "      }\n",
              "      quickchartButtonEl.classList.remove('colab-df-spinner');\n",
              "      quickchartButtonEl.classList.add('colab-df-quickchart-complete');\n",
              "    }\n",
              "    (() => {\n",
              "      let quickchartButtonEl =\n",
              "        document.querySelector('#df-6e6b70d8-829a-42d3-ab4b-3d0b013223f2 button');\n",
              "      quickchartButtonEl.style.display =\n",
              "        google.colab.kernel.accessAllowed ? 'block' : 'none';\n",
              "    })();\n",
              "  </script>\n",
              "</div>\n",
              "\n",
              "  <div id=\"id_53924196-772a-4049-a2a1-fe158870284a\">\n",
              "    <style>\n",
              "      .colab-df-generate {\n",
              "        background-color: #E8F0FE;\n",
              "        border: none;\n",
              "        border-radius: 50%;\n",
              "        cursor: pointer;\n",
              "        display: none;\n",
              "        fill: #1967D2;\n",
              "        height: 32px;\n",
              "        padding: 0 0 0 0;\n",
              "        width: 32px;\n",
              "      }\n",
              "\n",
              "      .colab-df-generate:hover {\n",
              "        background-color: #E2EBFA;\n",
              "        box-shadow: 0px 1px 2px rgba(60, 64, 67, 0.3), 0px 1px 3px 1px rgba(60, 64, 67, 0.15);\n",
              "        fill: #174EA6;\n",
              "      }\n",
              "\n",
              "      [theme=dark] .colab-df-generate {\n",
              "        background-color: #3B4455;\n",
              "        fill: #D2E3FC;\n",
              "      }\n",
              "\n",
              "      [theme=dark] .colab-df-generate:hover {\n",
              "        background-color: #434B5C;\n",
              "        box-shadow: 0px 1px 3px 1px rgba(0, 0, 0, 0.15);\n",
              "        filter: drop-shadow(0px 1px 2px rgba(0, 0, 0, 0.3));\n",
              "        fill: #FFFFFF;\n",
              "      }\n",
              "    </style>\n",
              "    <button class=\"colab-df-generate\" onclick=\"generateWithVariable('df_ventas')\"\n",
              "            title=\"Generate code using this dataframe.\"\n",
              "            style=\"display:none;\">\n",
              "\n",
              "  <svg xmlns=\"http://www.w3.org/2000/svg\" height=\"24px\"viewBox=\"0 0 24 24\"\n",
              "       width=\"24px\">\n",
              "    <path d=\"M7,19H8.4L18.45,9,17,7.55,7,17.6ZM5,21V16.75L18.45,3.32a2,2,0,0,1,2.83,0l1.4,1.43a1.91,1.91,0,0,1,.58,1.4,1.91,1.91,0,0,1-.58,1.4L9.25,21ZM18.45,9,17,7.55Zm-12,3A5.31,5.31,0,0,0,4.9,8.1,5.31,5.31,0,0,0,1,6.5,5.31,5.31,0,0,0,4.9,4.9,5.31,5.31,0,0,0,6.5,1,5.31,5.31,0,0,0,8.1,4.9,5.31,5.31,0,0,0,12,6.5,5.46,5.46,0,0,0,6.5,12Z\"/>\n",
              "  </svg>\n",
              "    </button>\n",
              "    <script>\n",
              "      (() => {\n",
              "      const buttonEl =\n",
              "        document.querySelector('#id_53924196-772a-4049-a2a1-fe158870284a button.colab-df-generate');\n",
              "      buttonEl.style.display =\n",
              "        google.colab.kernel.accessAllowed ? 'block' : 'none';\n",
              "\n",
              "      buttonEl.onclick = () => {\n",
              "        google.colab.notebook.generateWithVariable('df_ventas');\n",
              "      }\n",
              "      })();\n",
              "    </script>\n",
              "  </div>\n",
              "\n",
              "    </div>\n",
              "  </div>\n"
            ],
            "application/vnd.google.colaboratory.intrinsic+json": {
              "type": "dataframe",
              "variable_name": "df_ventas",
              "summary": "{\n  \"name\": \"df_ventas\",\n  \"rows\": 1000,\n  \"fields\": [\n    {\n      \"column\": \"Fecha\",\n      \"properties\": {\n        \"dtype\": \"object\",\n        \"num_unique_values\": 1,\n        \"samples\": [\n          \"2025-01-04\"\n        ],\n        \"semantic_type\": \"\",\n        \"description\": \"\"\n      }\n    },\n    {\n      \"column\": \"Sucursal\",\n      \"properties\": {\n        \"dtype\": \"category\",\n        \"num_unique_values\": 10,\n        \"samples\": [\n          \"Milpa Alta\"\n        ],\n        \"semantic_type\": \"\",\n        \"description\": \"\"\n      }\n    },\n    {\n      \"column\": \"Producto\",\n      \"properties\": {\n        \"dtype\": \"category\",\n        \"num_unique_values\": 26,\n        \"samples\": [\n          \"Bater\\u00edas\"\n        ],\n        \"semantic_type\": \"\",\n        \"description\": \"\"\n      }\n    },\n    {\n      \"column\": \"Clave_Producto\",\n      \"properties\": {\n        \"dtype\": \"string\",\n        \"num_unique_values\": 1000,\n        \"samples\": [\n          \"MVQ-117\"\n        ],\n        \"semantic_type\": \"\",\n        \"description\": \"\"\n      }\n    },\n    {\n      \"column\": \"Precio\",\n      \"properties\": {\n        \"dtype\": \"number\",\n        \"std\": 2115.352224811866,\n        \"min\": 4.27,\n        \"max\": 9609.49,\n        \"num_unique_values\": 1000,\n        \"samples\": [\n          1258.1\n        ],\n        \"semantic_type\": \"\",\n        \"description\": \"\"\n      }\n    },\n    {\n      \"column\": \"Cantidad_Vendida\",\n      \"properties\": {\n        \"dtype\": \"number\",\n        \"std\": 291,\n        \"min\": 1,\n        \"max\": 999,\n        \"num_unique_values\": 641,\n        \"samples\": [\n          844\n        ],\n        \"semantic_type\": \"\",\n        \"description\": \"\"\n      }\n    },\n    {\n      \"column\": \"Total_Ticket\",\n      \"properties\": {\n        \"dtype\": \"number\",\n        \"std\": 1396817.8354783915,\n        \"min\": 255.7,\n        \"max\": 9022215.52,\n        \"num_unique_values\": 1000,\n        \"samples\": [\n          462980.8\n        ],\n        \"semantic_type\": \"\",\n        \"description\": \"\"\n      }\n    }\n  ]\n}"
            }
          },
          "metadata": {},
          "execution_count": 115
        }
      ]
    },
    {
      "cell_type": "code",
      "source": [
        "# Exportar un dataframe a un excel\n",
        "df_ventas.to_excel(\"Ventas_20250104.xlsx\", index=False)"
      ],
      "metadata": {
        "id": "qpYF1tXXDPOd"
      },
      "execution_count": null,
      "outputs": []
    }
  ]
}