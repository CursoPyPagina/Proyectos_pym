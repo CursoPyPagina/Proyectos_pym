{
 "cells": [
  {
   "cell_type": "markdown",
   "metadata": {},
   "source": [
    "# 💥 Primeros pasos con ``Python`` 💥\n",
    "\n",
    "|| <a style=\"background-color: #1bf8ff; color: #000000; border: none; padding: 10px 15px; border-radius: 5px;\">Introducción a Python</a> ||\n",
    "<a style=\"background-color: #1bf8ff; color: #000000; border: none; padding: 10px 15px; border-radius: 5px;\">Proyecto</a> ||\n",
    "<a style=\"background-color: #1bf8ff; color: #000000; border: none; padding: 10px 15px; border-radius: 5px;\">Cursos PyM</a> ||\n",
    "<a style=\"background-color: #1bf8ff; color: #000000; border: none; padding: 10px 15px; border-radius: 5px;\">Luis Fernando Apáez Álvarez</a> ||\n",
    "\n",
    "\n",
    "---"
   ]
  },
  {
   "cell_type": "markdown",
   "metadata": {},
   "source": [
    "\n",
    "## 📚 Descripción\n",
    "\n",
    "El proyecto consta en simular un día de ventas en una papelería que cuenta con 10 sucursales a lo largo de la CDMX. Para ello\n",
    "\n",
    "1. Crearemos un código para generar esos datos simulados, con lo cual utilizaremos:\n",
    "* Listas, diccionarios, manejo de f-Strings, bucles y condicionales. Manejo de fechas.\n",
    "* Librería Pandas, Random, Datetime y Sqlite3.\n",
    "\n",
    "2. Automatizaremos el código utilizando programación orientada a objetos, donde montaremos el flujo de datos y tendremos control sobre él.\n",
    "3. Generaremos el insumo de excel para pasárselo a Power BI y crear un tablero asociado para visualizar la información generada. "
   ]
  },
  {
   "cell_type": "markdown",
   "metadata": {},
   "source": [
    "### Muestra"
   ]
  },
  {
   "cell_type": "code",
   "execution_count": 1,
   "metadata": {},
   "outputs": [
    {
     "name": "stdout",
     "output_type": "stream",
     "text": [
      "Error: table Ventas_2024 already exists\n"
     ]
    }
   ],
   "source": [
    "from Base import tools as t\n",
    "\n",
    "# Creamos la bbdd y la tabla de ventas\n",
    "t.definiciones()"
   ]
  },
  {
   "cell_type": "code",
   "execution_count": 4,
   "metadata": {},
   "outputs": [
    {
     "name": "stdout",
     "output_type": "stream",
     "text": [
      "Generación exitosa al 2024-01-02\n",
      "Inserción existosa\n",
      "Fecha: 2024-01-02 || Tiempo de ejecución: 0.73 minutos\n"
     ]
    }
   ],
   "source": [
    "t.proceso('2024-01-02')"
   ]
  },
  {
   "cell_type": "code",
   "execution_count": 5,
   "metadata": {},
   "outputs": [
    {
     "name": "stdout",
     "output_type": "stream",
     "text": [
      "        FECHA\n",
      "0  2024-01-01\n",
      "1  2024-01-02\n"
     ]
    }
   ],
   "source": [
    "t.comprobar_fechas()"
   ]
  },
  {
   "cell_type": "code",
   "execution_count": 2,
   "metadata": {},
   "outputs": [
    {
     "name": "stdout",
     "output_type": "stream",
     "text": [
      "Generación exitosa al 2024-01-03\n",
      "Inserción existosa\n",
      "Fecha: 2024-01-03 || Tiempo de ejecución: 0.72 minutos\n",
      "-----------------------------------\n",
      "Generación exitosa al 2024-01-04\n",
      "Inserción existosa\n",
      "Fecha: 2024-01-04 || Tiempo de ejecución: 0.56 minutos\n",
      "-----------------------------------\n",
      "Generación exitosa al 2024-01-05\n",
      "Inserción existosa\n",
      "Fecha: 2024-01-05 || Tiempo de ejecución: 0.15 minutos\n",
      "-----------------------------------\n",
      "Tiempo de ejecución total: 1.43\n"
     ]
    }
   ],
   "source": [
    "t.proceso('2024-01-03', '2024-01-05')"
   ]
  },
  {
   "cell_type": "code",
   "execution_count": 3,
   "metadata": {},
   "outputs": [
    {
     "name": "stdout",
     "output_type": "stream",
     "text": [
      "        FECHA\n",
      "0  2024-01-01\n",
      "1  2024-01-02\n",
      "2  2024-01-03\n",
      "3  2024-01-04\n",
      "4  2024-01-05\n"
     ]
    }
   ],
   "source": [
    "t.comprobar_fechas()"
   ]
  },
  {
   "cell_type": "markdown",
   "metadata": {},
   "source": [
    "---\n",
    "\n",
    "## �� Sentencias SQL\n",
    "\n",
    "1. Consultas: Select, Limit, Group By, Order By, Alias\n",
    "2. Vistas, Distinct, Where, Concatenacion"
   ]
  },
  {
   "cell_type": "code",
   "execution_count": 6,
   "metadata": {},
   "outputs": [
    {
     "data": {
      "text/html": [
       "<div>\n",
       "<style scoped>\n",
       "    .dataframe tbody tr th:only-of-type {\n",
       "        vertical-align: middle;\n",
       "    }\n",
       "\n",
       "    .dataframe tbody tr th {\n",
       "        vertical-align: top;\n",
       "    }\n",
       "\n",
       "    .dataframe thead th {\n",
       "        text-align: right;\n",
       "    }\n",
       "</style>\n",
       "<table border=\"1\" class=\"dataframe\">\n",
       "  <thead>\n",
       "    <tr style=\"text-align: right;\">\n",
       "      <th></th>\n",
       "      <th>PRODUCTO</th>\n",
       "      <th>CLAVE_PRODUCTO</th>\n",
       "      <th>PRECIO_VENTA</th>\n",
       "      <th>CANTIDAD_VENDIDO</th>\n",
       "      <th>SUCURSAL</th>\n",
       "      <th>FECHA</th>\n",
       "    </tr>\n",
       "  </thead>\n",
       "  <tbody>\n",
       "    <tr>\n",
       "      <th>0</th>\n",
       "      <td>Mochilas</td>\n",
       "      <td>BKO042</td>\n",
       "      <td>3997.37</td>\n",
       "      <td>1</td>\n",
       "      <td>Cuemanco</td>\n",
       "      <td>2024-01-01</td>\n",
       "    </tr>\n",
       "    <tr>\n",
       "      <th>1</th>\n",
       "      <td>Tablets</td>\n",
       "      <td>WRG373</td>\n",
       "      <td>502.82</td>\n",
       "      <td>9</td>\n",
       "      <td>Milpa Alta</td>\n",
       "      <td>2024-01-01</td>\n",
       "    </tr>\n",
       "    <tr>\n",
       "      <th>2</th>\n",
       "      <td>Baterías</td>\n",
       "      <td>HDT052</td>\n",
       "      <td>96.86</td>\n",
       "      <td>0</td>\n",
       "      <td>Xochimilco</td>\n",
       "      <td>2024-01-01</td>\n",
       "    </tr>\n",
       "    <tr>\n",
       "      <th>3</th>\n",
       "      <td>Pinceles</td>\n",
       "      <td>QTA475</td>\n",
       "      <td>1476.53</td>\n",
       "      <td>1</td>\n",
       "      <td>Polanco</td>\n",
       "      <td>2024-01-01</td>\n",
       "    </tr>\n",
       "    <tr>\n",
       "      <th>4</th>\n",
       "      <td>Pinceles</td>\n",
       "      <td>QTA475</td>\n",
       "      <td>1476.53</td>\n",
       "      <td>3</td>\n",
       "      <td>CU</td>\n",
       "      <td>2024-01-01</td>\n",
       "    </tr>\n",
       "  </tbody>\n",
       "</table>\n",
       "</div>"
      ],
      "text/plain": [
       "   PRODUCTO CLAVE_PRODUCTO  PRECIO_VENTA  CANTIDAD_VENDIDO    SUCURSAL  \\\n",
       "0  Mochilas         BKO042       3997.37                 1    Cuemanco   \n",
       "1   Tablets         WRG373        502.82                 9  Milpa Alta   \n",
       "2  Baterías         HDT052         96.86                 0  Xochimilco   \n",
       "3  Pinceles         QTA475       1476.53                 1     Polanco   \n",
       "4  Pinceles         QTA475       1476.53                 3          CU   \n",
       "\n",
       "        FECHA  \n",
       "0  2024-01-01  \n",
       "1  2024-01-01  \n",
       "2  2024-01-01  \n",
       "3  2024-01-01  \n",
       "4  2024-01-01  "
      ]
     },
     "execution_count": 6,
     "metadata": {},
     "output_type": "execute_result"
    }
   ],
   "source": [
    "import sqlite3 as sql\n",
    "import pandas as pd\n",
    "\n",
    "# Creamos la tabla\n",
    "query = \"\"\"\n",
    "SELECT * FROM Ventas_2024\n",
    "\"\"\"\n",
    "\n",
    "# Creamos la base de datos, la cual se llamara Ejemplo\n",
    "conn = sql.connect(\"Ventas.db\")\n",
    "df = pd.read_sql_query(query, conn)\n",
    "conn.close()\n",
    "\n",
    "df.head()"
   ]
  },
  {
   "cell_type": "code",
   "execution_count": 19,
   "metadata": {},
   "outputs": [
    {
     "data": {
      "text/html": [
       "<div>\n",
       "<style scoped>\n",
       "    .dataframe tbody tr th:only-of-type {\n",
       "        vertical-align: middle;\n",
       "    }\n",
       "\n",
       "    .dataframe tbody tr th {\n",
       "        vertical-align: top;\n",
       "    }\n",
       "\n",
       "    .dataframe thead th {\n",
       "        text-align: right;\n",
       "    }\n",
       "</style>\n",
       "<table border=\"1\" class=\"dataframe\">\n",
       "  <thead>\n",
       "    <tr style=\"text-align: right;\">\n",
       "      <th></th>\n",
       "      <th>SUCURSAL</th>\n",
       "      <th>TOTAL_VENDIDO</th>\n",
       "    </tr>\n",
       "  </thead>\n",
       "  <tbody>\n",
       "    <tr>\n",
       "      <th>0</th>\n",
       "      <td>Coapa</td>\n",
       "      <td>18880458.38</td>\n",
       "    </tr>\n",
       "    <tr>\n",
       "      <th>1</th>\n",
       "      <td>Narvarte</td>\n",
       "      <td>18427611.49</td>\n",
       "    </tr>\n",
       "    <tr>\n",
       "      <th>2</th>\n",
       "      <td>Xochimilco</td>\n",
       "      <td>18402785.81</td>\n",
       "    </tr>\n",
       "    <tr>\n",
       "      <th>3</th>\n",
       "      <td>Centro</td>\n",
       "      <td>18338741.68</td>\n",
       "    </tr>\n",
       "    <tr>\n",
       "      <th>4</th>\n",
       "      <td>Milpa Alta</td>\n",
       "      <td>18299628.36</td>\n",
       "    </tr>\n",
       "  </tbody>\n",
       "</table>\n",
       "</div>"
      ],
      "text/plain": [
       "     SUCURSAL  TOTAL_VENDIDO\n",
       "0       Coapa    18880458.38\n",
       "1    Narvarte    18427611.49\n",
       "2  Xochimilco    18402785.81\n",
       "3      Centro    18338741.68\n",
       "4  Milpa Alta    18299628.36"
      ]
     },
     "execution_count": 19,
     "metadata": {},
     "output_type": "execute_result"
    }
   ],
   "source": [
    "# Creamos la tabla\n",
    "query = \"\"\"\n",
    "SELECT\n",
    "    SUCURSAL,\n",
    "    SUM(TOTAL) AS TOTAL_VENDIDO\n",
    "FROM\n",
    "    --- Subconsultas\n",
    "    (SELECT \n",
    "        PRODUCTO,\n",
    "        CLAVE_PRODUCTO,\n",
    "        PRECIO_VENTA,\n",
    "        CANTIDAD_VENDIDO,\n",
    "        SUCURSAL,\n",
    "        FECHA,\n",
    "        --- Podemos agregar una columna nueva\n",
    "        PRECIO_VENTA * CANTIDAD_VENDIDO AS TOTAL\n",
    "    FROM \n",
    "        Ventas_2024)\n",
    "--- Agrupaciones\n",
    "GROUP BY \n",
    "    SUCURSAL\n",
    "--- Ordenamientos\n",
    "ORDER BY\n",
    "    TOTAL_VENDIDO DESC\n",
    "--- Limitar registros\n",
    "LIMIT \n",
    "    5\n",
    "\"\"\"\n",
    "\n",
    "# Creamos la base de datos, la cual se llamara Ejemplo\n",
    "conn = sql.connect(\"Ventas.db\")\n",
    "df = pd.read_sql_query(query, conn)\n",
    "conn.close()\n",
    "\n",
    "df"
   ]
  },
  {
   "cell_type": "code",
   "execution_count": 20,
   "metadata": {},
   "outputs": [],
   "source": [
    "# Creamos vista: tablas temporales\n",
    "query = \"\"\"\n",
    "CREATE VIEW Ventas_2024_t\n",
    "AS\n",
    "  SELECT \n",
    "    PRODUCTO,\n",
    "    CLAVE_PRODUCTO,\n",
    "    PRECIO_VENTA,\n",
    "    CANTIDAD_VENDIDO,\n",
    "    SUCURSAL,\n",
    "    FECHA,\n",
    "    --- Podemos agregar una columna nueva\n",
    "    PRECIO_VENTA * CANTIDAD_VENDIDO AS TOTAL\n",
    "  FROM \n",
    "    Ventas_2024\n",
    "\"\"\"\n",
    "\n",
    "conn = sql.connect(\"Ventas.db\")\n",
    "cur = conn.cursor()\n",
    "cur.execute(query)\n",
    "conn.commit()\n",
    "conn.close()"
   ]
  },
  {
   "cell_type": "code",
   "execution_count": 23,
   "metadata": {},
   "outputs": [
    {
     "data": {
      "text/html": [
       "<div>\n",
       "<style scoped>\n",
       "    .dataframe tbody tr th:only-of-type {\n",
       "        vertical-align: middle;\n",
       "    }\n",
       "\n",
       "    .dataframe tbody tr th {\n",
       "        vertical-align: top;\n",
       "    }\n",
       "\n",
       "    .dataframe thead th {\n",
       "        text-align: right;\n",
       "    }\n",
       "</style>\n",
       "<table border=\"1\" class=\"dataframe\">\n",
       "  <thead>\n",
       "    <tr style=\"text-align: right;\">\n",
       "      <th></th>\n",
       "      <th>SUCURSAL</th>\n",
       "    </tr>\n",
       "  </thead>\n",
       "  <tbody>\n",
       "    <tr>\n",
       "      <th>0</th>\n",
       "      <td>Cuemanco</td>\n",
       "    </tr>\n",
       "    <tr>\n",
       "      <th>1</th>\n",
       "      <td>Milpa Alta</td>\n",
       "    </tr>\n",
       "    <tr>\n",
       "      <th>2</th>\n",
       "      <td>Xochimilco</td>\n",
       "    </tr>\n",
       "    <tr>\n",
       "      <th>3</th>\n",
       "      <td>Polanco</td>\n",
       "    </tr>\n",
       "    <tr>\n",
       "      <th>4</th>\n",
       "      <td>CU</td>\n",
       "    </tr>\n",
       "    <tr>\n",
       "      <th>5</th>\n",
       "      <td>Narvarte</td>\n",
       "    </tr>\n",
       "    <tr>\n",
       "      <th>6</th>\n",
       "      <td>Zócalo</td>\n",
       "    </tr>\n",
       "    <tr>\n",
       "      <th>7</th>\n",
       "      <td>Centro</td>\n",
       "    </tr>\n",
       "    <tr>\n",
       "      <th>8</th>\n",
       "      <td>Santa Fé</td>\n",
       "    </tr>\n",
       "    <tr>\n",
       "      <th>9</th>\n",
       "      <td>Coapa</td>\n",
       "    </tr>\n",
       "  </tbody>\n",
       "</table>\n",
       "</div>"
      ],
      "text/plain": [
       "     SUCURSAL\n",
       "0    Cuemanco\n",
       "1  Milpa Alta\n",
       "2  Xochimilco\n",
       "3     Polanco\n",
       "4          CU\n",
       "5    Narvarte\n",
       "6      Zócalo\n",
       "7      Centro\n",
       "8    Santa Fé\n",
       "9       Coapa"
      ]
     },
     "execution_count": 23,
     "metadata": {},
     "output_type": "execute_result"
    }
   ],
   "source": [
    "# Elementos diferentes de una columna\n",
    "query = \"\"\"\n",
    "SELECT\n",
    "    DISTINCT SUCURSAL\n",
    "FROM\n",
    "    Ventas_2024_t\n",
    "\"\"\"\n",
    "\n",
    "# Creamos la base de datos, la cual se llamara Ejemplo\n",
    "conn = sql.connect(\"Ventas.db\")\n",
    "df = pd.read_sql_query(query, conn)\n",
    "conn.close()\n",
    "\n",
    "df"
   ]
  },
  {
   "cell_type": "code",
   "execution_count": 42,
   "metadata": {},
   "outputs": [
    {
     "data": {
      "text/html": [
       "<div>\n",
       "<style scoped>\n",
       "    .dataframe tbody tr th:only-of-type {\n",
       "        vertical-align: middle;\n",
       "    }\n",
       "\n",
       "    .dataframe tbody tr th {\n",
       "        vertical-align: top;\n",
       "    }\n",
       "\n",
       "    .dataframe thead th {\n",
       "        text-align: right;\n",
       "    }\n",
       "</style>\n",
       "<table border=\"1\" class=\"dataframe\">\n",
       "  <thead>\n",
       "    <tr style=\"text-align: right;\">\n",
       "      <th></th>\n",
       "      <th>LLAVE</th>\n",
       "      <th>CLAVE_PRODUCTO</th>\n",
       "      <th>FECHA</th>\n",
       "      <th>TOTAL</th>\n",
       "    </tr>\n",
       "  </thead>\n",
       "  <tbody>\n",
       "    <tr>\n",
       "      <th>0</th>\n",
       "      <td>Cajas_KIC193</td>\n",
       "      <td>KIC193</td>\n",
       "      <td>2024-01-01</td>\n",
       "      <td>26375.16</td>\n",
       "    </tr>\n",
       "    <tr>\n",
       "      <th>1</th>\n",
       "      <td>Mochilas_BKO042</td>\n",
       "      <td>BKO042</td>\n",
       "      <td>2024-01-01</td>\n",
       "      <td>23984.22</td>\n",
       "    </tr>\n",
       "    <tr>\n",
       "      <th>2</th>\n",
       "      <td>Cajas_KIC193</td>\n",
       "      <td>KIC193</td>\n",
       "      <td>2024-01-01</td>\n",
       "      <td>22607.28</td>\n",
       "    </tr>\n",
       "    <tr>\n",
       "      <th>3</th>\n",
       "      <td>Mochilas_BKO042</td>\n",
       "      <td>BKO042</td>\n",
       "      <td>2024-01-01</td>\n",
       "      <td>35976.33</td>\n",
       "    </tr>\n",
       "    <tr>\n",
       "      <th>4</th>\n",
       "      <td>Teclados_OGA612</td>\n",
       "      <td>OGA612</td>\n",
       "      <td>2024-01-01</td>\n",
       "      <td>16366.02</td>\n",
       "    </tr>\n",
       "  </tbody>\n",
       "</table>\n",
       "</div>"
      ],
      "text/plain": [
       "             LLAVE CLAVE_PRODUCTO       FECHA     TOTAL\n",
       "0     Cajas_KIC193         KIC193  2024-01-01  26375.16\n",
       "1  Mochilas_BKO042         BKO042  2024-01-01  23984.22\n",
       "2     Cajas_KIC193         KIC193  2024-01-01  22607.28\n",
       "3  Mochilas_BKO042         BKO042  2024-01-01  35976.33\n",
       "4  Teclados_OGA612         OGA612  2024-01-01  16366.02"
      ]
     },
     "execution_count": 42,
     "metadata": {},
     "output_type": "execute_result"
    }
   ],
   "source": [
    "# Elementos diferentes de una columna\n",
    "query = \"\"\"\n",
    "SELECT\n",
    "   PRODUCTO || '_' || CLAVE_PRODUCTO AS LLAVE,\n",
    "   CLAVE_PRODUCTO,\n",
    "   FECHA, \n",
    "   TOTAL\n",
    "FROM\n",
    "    Ventas_2024_t\n",
    "WHERE\n",
    "    SUCURSAL = 'Cuemanco'\n",
    "AND\n",
    "    TOTAL >= 15000\n",
    "LIMIT \n",
    "    5\n",
    "\"\"\"\n",
    "\n",
    "# Creamos la base de datos, la cual se llamara Ejemplo\n",
    "conn = sql.connect(\"Ventas.db\")\n",
    "df = pd.read_sql_query(query, conn)\n",
    "conn.close()\n",
    "\n",
    "df"
   ]
  },
  {
   "cell_type": "code",
   "execution_count": 38,
   "metadata": {},
   "outputs": [
    {
     "data": {
      "text/html": [
       "<div>\n",
       "<style scoped>\n",
       "    .dataframe tbody tr th:only-of-type {\n",
       "        vertical-align: middle;\n",
       "    }\n",
       "\n",
       "    .dataframe tbody tr th {\n",
       "        vertical-align: top;\n",
       "    }\n",
       "\n",
       "    .dataframe thead th {\n",
       "        text-align: right;\n",
       "    }\n",
       "</style>\n",
       "<table border=\"1\" class=\"dataframe\">\n",
       "  <thead>\n",
       "    <tr style=\"text-align: right;\">\n",
       "      <th></th>\n",
       "      <th>SUCURSAL</th>\n",
       "      <th>MAXIMO</th>\n",
       "    </tr>\n",
       "  </thead>\n",
       "  <tbody>\n",
       "    <tr>\n",
       "      <th>0</th>\n",
       "      <td>Mochilas</td>\n",
       "      <td>3997.37</td>\n",
       "    </tr>\n",
       "  </tbody>\n",
       "</table>\n",
       "</div>"
      ],
      "text/plain": [
       "   SUCURSAL   MAXIMO\n",
       "0  Mochilas  3997.37"
      ]
     },
     "execution_count": 38,
     "metadata": {},
     "output_type": "execute_result"
    }
   ],
   "source": [
    "# Elementos diferentes de una columna\n",
    "query = \"\"\"\n",
    "SELECT\n",
    "    PRODUCTO\n",
    "    SUCURSAL,\n",
    "    MAX(PRECIO_VENTA) AS MAXIMO\n",
    "FROM\n",
    "    Ventas_2024_t\n",
    "WHERE\n",
    "    SUCURSAL = 'Cuemanco'\n",
    "\"\"\"\n",
    "\n",
    "# Creamos la base de datos, la cual se llamara Ejemplo\n",
    "conn = sql.connect(\"Ventas.db\")\n",
    "df = pd.read_sql_query(query, conn)\n",
    "conn.close()\n",
    "\n",
    "df"
   ]
  }
 ],
 "metadata": {
  "kernelspec": {
   "display_name": "base",
   "language": "python",
   "name": "python3"
  },
  "language_info": {
   "codemirror_mode": {
    "name": "ipython",
    "version": 3
   },
   "file_extension": ".py",
   "mimetype": "text/x-python",
   "name": "python",
   "nbconvert_exporter": "python",
   "pygments_lexer": "ipython3",
   "version": "3.11.7"
  }
 },
 "nbformat": 4,
 "nbformat_minor": 2
}
