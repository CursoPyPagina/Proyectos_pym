{
  "nbformat": 4,
  "nbformat_minor": 0,
  "metadata": {
    "colab": {
      "provenance": []
    },
    "kernelspec": {
      "name": "python3",
      "display_name": "Python 3"
    },
    "language_info": {
      "name": "python"
    }
  },
  "cells": [
    {
      "cell_type": "markdown",
      "source": [
        "# 💥 Primeros pasos con ``Python`` 💥\n",
        "\n",
        "|| <a style=\"background-color: #1bf8ff; color: #000000; border: none; padding: 10px 15px; border-radius: 5px;\">Introducción a Python</a> ||\n",
        "<a style=\"background-color: #1bf8ff; color: #000000; border: none; padding: 10px 15px; border-radius: 5px;\">Clase 2</a> ||\n",
        "<a style=\"background-color: #1bf8ff; color: #000000; border: none; padding: 10px 15px; border-radius: 5px;\">Cursos PyM</a> ||\n",
        "<a style=\"background-color: #1bf8ff; color: #000000; border: none; padding: 10px 15px; border-radius: 5px;\">Luis Fernando Apáez Álvarez</a> ||\n",
        "\n",
        "## 🪗 Acordeón 🪗\n",
        "\n",
        "---"
      ],
      "metadata": {
        "id": "MYWfTYRBc4Ke"
      }
    },
    {
      "cell_type": "markdown",
      "source": [
        "### Listas con la info de la simulación de información de las papelerías."
      ],
      "metadata": {
        "id": "Nai4ngReebE5"
      }
    },
    {
      "cell_type": "code",
      "execution_count": null,
      "metadata": {
        "id": "wXwZxKEqcp8u"
      },
      "outputs": [],
      "source": [
        "abcdario = ['A', 'B', 'C', 'D', 'E', 'F', 'G', 'H', 'I', 'J',\n",
        "            'K', 'L', 'M', 'N', 'O', 'P', 'Q', 'R', 'S', 'T',\n",
        "            'U', 'V', 'W', 'X', 'Y', 'Z']\n",
        "\n",
        "papelerias = ['Xochimilco', 'Cuemanco', 'Coapa', 'Milpa Alta', 'CU', 'Zócalo',\n",
        "              'Narvarte', 'Santa Fé', 'Polanco', 'Centro']\n",
        "\n",
        "lineas = ['Cuadernos', 'Libretas', 'Lápices', 'Plumones', 'Borradores', 'Sacapuntas',\n",
        "          'Laptops', 'Tablets', 'Mochilas', 'Bolsas', 'Cajas', 'Pegamento', 'Tijeras',\n",
        "          'Monitores', 'Teclados', 'Mouse', 'Audífonos', 'Cables', 'Cargadores', 'Baterías',\n",
        "          'Pc', 'Uniformes', 'Pinturas', 'Pinceles', 'Papel', 'Cartulinas']"
      ]
    },
    {
      "cell_type": "markdown",
      "source": [
        "## Funciones que utilizamos en clase\n",
        "\n",
        "* ``input(texto)``: Función para solicitar información al usuario, donde ``texto`` es el mensaje que le queremos mandar. Además, esta función siempre recibe cadenas de texto."
      ],
      "metadata": {
        "id": "qysuggW1Oc04"
      }
    },
    {
      "cell_type": "code",
      "source": [
        "nombre = input(\"Cuál es tu nombre? \")\n",
        "print(\"Hola\", nombre)"
      ],
      "metadata": {
        "colab": {
          "base_uri": "https://localhost:8080/"
        },
        "id": "_sy-8uxsObr3",
        "outputId": "618fb202-d5f7-44d1-eaf4-36976ad5f644"
      },
      "execution_count": null,
      "outputs": [
        {
          "output_type": "stream",
          "name": "stdout",
          "text": [
            "Cuál es tu nombre? Luis\n",
            "Hola Luis\n"
          ]
        }
      ]
    },
    {
      "cell_type": "markdown",
      "source": [
        "* ``len()``: Te dice la longitud sobre estructuras de datos, por ejemplo, cuántos elementos tiene una lista, cuántos caracteres tiene una cadena de texto, cuántas llaves tiene un diccionario, etcétera."
      ],
      "metadata": {
        "id": "weWcnoXcO4pp"
      }
    },
    {
      "cell_type": "code",
      "source": [
        "print(\"Longitud de una lista:\", len([1, \"Hola\", 3.1416]))\n",
        "print(\"Longitud de una cadena de texto:\", len([1, \"Hola\", 3.1416]))\n",
        "print(\"Longitud de un diccionario:\", len({\"Nombres\": [\"Luis\", \"Fer\"], \"Edades\": [27, 72]}))"
      ],
      "metadata": {
        "colab": {
          "base_uri": "https://localhost:8080/"
        },
        "id": "0VC65IMvPE2O",
        "outputId": "8af835b3-54b6-479f-f88d-0f0379e3ccaf"
      },
      "execution_count": null,
      "outputs": [
        {
          "output_type": "stream",
          "name": "stdout",
          "text": [
            "Longitud de una lista: 3\n",
            "Longitud de una cadena de texto: 3\n",
            "Longitud de un diccionario: 2\n"
          ]
        }
      ]
    },
    {
      "cell_type": "markdown",
      "source": [
        "**Definición:** Diremos que una cadena de texto es un string numérico si es una cadena de texto que solo contiene números.\n",
        "\n",
        "Ejemplos:\n",
        "1. ``\"3.14 luis\"`` es una cadena de texto, pero no es un string numérico.\n",
        "2. ``\"3.14\"`` es una cadena de texto, más aún, es un string numérico. Este string numérico es un string numérico flotante.\n",
        "3. ``\"5\"`` es un string numérico.  Este string numérico es un string numérico entero.\n",
        "\n",
        "Continuando:\n",
        "\n",
        "* ``float()``: Es una función que convierte string numéricos flotantes a números flotantes.\n",
        "\n",
        "* ``int()``: Es una función que convierte string numéricos enteros a números enteros.\n",
        "\n",
        "* ``str()``: Es una función que convierte números (ya sea enteros o flotantes) a cadenas de texto.\n",
        "\n",
        "* ``round(numero a redondear, decimales de redondeo)``: es una función que sirve para redondear número decimales.\n"
      ],
      "metadata": {
        "id": "JG5zgu4KOaeP"
      }
    },
    {
      "cell_type": "code",
      "source": [
        "round(3.1415926535, 3)"
      ],
      "metadata": {
        "colab": {
          "base_uri": "https://localhost:8080/"
        },
        "id": "93THQuPFRU7Z",
        "outputId": "70bdbb1c-8b80-46bb-e649-878fb6a83672"
      },
      "execution_count": null,
      "outputs": [
        {
          "output_type": "execute_result",
          "data": {
            "text/plain": [
              "3.142"
            ]
          },
          "metadata": {},
          "execution_count": 11
        }
      ]
    },
    {
      "cell_type": "markdown",
      "source": [
        "## Funciones de la librería random"
      ],
      "metadata": {
        "id": "bYtN0Z9XQp7n"
      }
    },
    {
      "cell_type": "code",
      "source": [
        "# Importamos al libreria\n",
        "import random as r"
      ],
      "metadata": {
        "id": "TWFyYfCTOa8z"
      },
      "execution_count": null,
      "outputs": []
    },
    {
      "cell_type": "code",
      "source": [
        "# 1. r.choice(lista_ejemplo): dada la lista lista_ejemplo, r.choice te elige de manera aleatoria\n",
        "# un elemento de dicha lista\n",
        "r.choice(abcdario)"
      ],
      "metadata": {
        "colab": {
          "base_uri": "https://localhost:8080/",
          "height": 36
        },
        "id": "VIjPBnUrQmvH",
        "outputId": "06ecc420-130a-4f7d-83ff-ab3a041150e5"
      },
      "execution_count": null,
      "outputs": [
        {
          "output_type": "execute_result",
          "data": {
            "text/plain": [
              "'L'"
            ],
            "application/vnd.google.colaboratory.intrinsic+json": {
              "type": "string"
            }
          },
          "metadata": {},
          "execution_count": 8
        }
      ]
    },
    {
      "cell_type": "code",
      "source": [
        "# 2. r.randint(a,b): escoge de manera aleatoria un numero entero entre a y b\n",
        "r.randint(1, 10)"
      ],
      "metadata": {
        "colab": {
          "base_uri": "https://localhost:8080/"
        },
        "id": "BsRwiMTsQ8rI",
        "outputId": "79203755-9af5-4f7a-ae16-dd5beda17236"
      },
      "execution_count": null,
      "outputs": [
        {
          "output_type": "execute_result",
          "data": {
            "text/plain": [
              "8"
            ]
          },
          "metadata": {},
          "execution_count": 9
        }
      ]
    },
    {
      "cell_type": "code",
      "source": [
        "# 3. r.random(): genera un numero aleatorio decimal entre el 0 y el 1\n",
        "r.random()"
      ],
      "metadata": {
        "colab": {
          "base_uri": "https://localhost:8080/"
        },
        "id": "qCNxZ5VBQ1ix",
        "outputId": "f3235e5d-77c7-47bb-c824-a7da1a7bb677"
      },
      "execution_count": null,
      "outputs": [
        {
          "output_type": "execute_result",
          "data": {
            "text/plain": [
              "0.6576936980772643"
            ]
          },
          "metadata": {},
          "execution_count": 10
        }
      ]
    },
    {
      "cell_type": "markdown",
      "source": [
        "## Resumen del código de clase\n",
        "\n",
        "A continuación se presentará el compendio del código que se busca explicar y desarrollar en la clase 2 para simular la información de ventas de las papelerías.  \n"
      ],
      "metadata": {
        "id": "7Kt9OlaERhHx"
      }
    },
    {
      "cell_type": "code",
      "source": [
        "# Fecha reporte\n",
        "fecha = \"2025-01-04\"\n",
        "\n",
        "# Definimos listas vacias que almacenaran la informacion de las ventas\n",
        "fechas = []\n",
        "sucursales = []\n",
        "productos = []\n",
        "claves_producto = []\n",
        "precios = []\n",
        "cantidades_vendidas = []\n",
        "totales_ticket = []\n",
        "\n",
        "for i in range(1, 1001):\n",
        "  ##############################################################################\n",
        "  # 1. Generamos la informacion simulada\n",
        "  ##############################################################################\n",
        "  sucursal = r.choice(papelerias)\n",
        "  producto = r.choice(lineas)\n",
        "  clave_producto = r.choice(abcdario) + r.choice(abcdario) + r.choice(abcdario) + \"-\" + str(r.randint(1,9)) + str(r.randint(1,9)) + str(r.randint(1,9))\n",
        "  precio = round(r.random() * r.randint(100, 10000), 2)\n",
        "  cantidad_vendida = r.randint(1, 1000)\n",
        "  total_ticket = precio * cantidad_vendida\n",
        "  ##############################################################################\n",
        "  # 2. La agregamos a nuestras listas vacias\n",
        "  ##############################################################################\n",
        "  fechas.append(fecha)\n",
        "  sucursales.append(sucursal)\n",
        "  productos.append(producto)\n",
        "  claves_producto.append(clave_producto)\n",
        "  precios.append(precio)\n",
        "  cantidades_vendidas.append(cantidad_vendida)\n",
        "  totales_ticket.append(total_ticket)\n",
        "\n",
        "# Definimos el dataframe\n",
        "import pandas as pd\n",
        "\n",
        "# diccionario con la estructura del dataframe\n",
        "diccionario_ventas_df = {\n",
        "    \"Fecha\": fechas,\n",
        "    \"Sucursal\": sucursales,\n",
        "    \"Producto\": productos,\n",
        "    \"Clave_Producto\": claves_producto,\n",
        "    \"Precio\": precios,\n",
        "    \"Cantidad_Vendida\": cantidades_vendidas,\n",
        "    \"Total_Ticket\": totales_ticket\n",
        "}\n",
        "\n",
        "# Crearemos el dataframe\n",
        "df_ventas = pd.DataFrame(diccionario_ventas_df)\n",
        "df_ventas"
      ],
      "metadata": {
        "colab": {
          "base_uri": "https://localhost:8080/",
          "height": 423
        },
        "id": "0gUU99HkRizK",
        "outputId": "3d66b731-f356-4181-8a54-f71946b72c52"
      },
      "execution_count": null,
      "outputs": [
        {
          "output_type": "execute_result",
          "data": {
            "text/plain": [
              "          Fecha  Sucursal    Producto Clave_Producto   Precio  \\\n",
              "0    2025-01-04     Coapa   Pegamento        AGV-618  1163.01   \n",
              "1    2025-01-04   Polanco   Cuadernos        BHT-741   607.07   \n",
              "2    2025-01-04  Narvarte    Teclados        XLB-996  5201.04   \n",
              "3    2025-01-04        CU  Cartulinas        VWE-938   197.35   \n",
              "4    2025-01-04    Zócalo    Baterías        JHH-437  1147.68   \n",
              "..          ...       ...         ...            ...      ...   \n",
              "995  2025-01-04  Cuemanco   Monitores        FNZ-916  1233.46   \n",
              "996  2025-01-04  Santa Fé     Laptops        IKO-397   128.71   \n",
              "997  2025-01-04    Zócalo  Cartulinas        YTK-182   610.72   \n",
              "998  2025-01-04    Centro   Cuadernos        VJS-496  1968.18   \n",
              "999  2025-01-04        CU       Cajas        QKA-757  2694.26   \n",
              "\n",
              "     Cantidad_Vendida  Total_Ticket  \n",
              "0                 255     296567.55  \n",
              "1                 276     167551.32  \n",
              "2                 145     754150.80  \n",
              "3                 109      21511.15  \n",
              "4                 432     495797.76  \n",
              "..                ...           ...  \n",
              "995               348     429244.08  \n",
              "996               254      32692.34  \n",
              "997               261     159397.92  \n",
              "998               666    1310807.88  \n",
              "999               145     390667.70  \n",
              "\n",
              "[1000 rows x 7 columns]"
            ],
            "text/html": [
              "\n",
              "  <div id=\"df-f5141ed7-3008-48ee-a071-2f546c6b34a9\" class=\"colab-df-container\">\n",
              "    <div>\n",
              "<style scoped>\n",
              "    .dataframe tbody tr th:only-of-type {\n",
              "        vertical-align: middle;\n",
              "    }\n",
              "\n",
              "    .dataframe tbody tr th {\n",
              "        vertical-align: top;\n",
              "    }\n",
              "\n",
              "    .dataframe thead th {\n",
              "        text-align: right;\n",
              "    }\n",
              "</style>\n",
              "<table border=\"1\" class=\"dataframe\">\n",
              "  <thead>\n",
              "    <tr style=\"text-align: right;\">\n",
              "      <th></th>\n",
              "      <th>Fecha</th>\n",
              "      <th>Sucursal</th>\n",
              "      <th>Producto</th>\n",
              "      <th>Clave_Producto</th>\n",
              "      <th>Precio</th>\n",
              "      <th>Cantidad_Vendida</th>\n",
              "      <th>Total_Ticket</th>\n",
              "    </tr>\n",
              "  </thead>\n",
              "  <tbody>\n",
              "    <tr>\n",
              "      <th>0</th>\n",
              "      <td>2025-01-04</td>\n",
              "      <td>Coapa</td>\n",
              "      <td>Pegamento</td>\n",
              "      <td>AGV-618</td>\n",
              "      <td>1163.01</td>\n",
              "      <td>255</td>\n",
              "      <td>296567.55</td>\n",
              "    </tr>\n",
              "    <tr>\n",
              "      <th>1</th>\n",
              "      <td>2025-01-04</td>\n",
              "      <td>Polanco</td>\n",
              "      <td>Cuadernos</td>\n",
              "      <td>BHT-741</td>\n",
              "      <td>607.07</td>\n",
              "      <td>276</td>\n",
              "      <td>167551.32</td>\n",
              "    </tr>\n",
              "    <tr>\n",
              "      <th>2</th>\n",
              "      <td>2025-01-04</td>\n",
              "      <td>Narvarte</td>\n",
              "      <td>Teclados</td>\n",
              "      <td>XLB-996</td>\n",
              "      <td>5201.04</td>\n",
              "      <td>145</td>\n",
              "      <td>754150.80</td>\n",
              "    </tr>\n",
              "    <tr>\n",
              "      <th>3</th>\n",
              "      <td>2025-01-04</td>\n",
              "      <td>CU</td>\n",
              "      <td>Cartulinas</td>\n",
              "      <td>VWE-938</td>\n",
              "      <td>197.35</td>\n",
              "      <td>109</td>\n",
              "      <td>21511.15</td>\n",
              "    </tr>\n",
              "    <tr>\n",
              "      <th>4</th>\n",
              "      <td>2025-01-04</td>\n",
              "      <td>Zócalo</td>\n",
              "      <td>Baterías</td>\n",
              "      <td>JHH-437</td>\n",
              "      <td>1147.68</td>\n",
              "      <td>432</td>\n",
              "      <td>495797.76</td>\n",
              "    </tr>\n",
              "    <tr>\n",
              "      <th>...</th>\n",
              "      <td>...</td>\n",
              "      <td>...</td>\n",
              "      <td>...</td>\n",
              "      <td>...</td>\n",
              "      <td>...</td>\n",
              "      <td>...</td>\n",
              "      <td>...</td>\n",
              "    </tr>\n",
              "    <tr>\n",
              "      <th>995</th>\n",
              "      <td>2025-01-04</td>\n",
              "      <td>Cuemanco</td>\n",
              "      <td>Monitores</td>\n",
              "      <td>FNZ-916</td>\n",
              "      <td>1233.46</td>\n",
              "      <td>348</td>\n",
              "      <td>429244.08</td>\n",
              "    </tr>\n",
              "    <tr>\n",
              "      <th>996</th>\n",
              "      <td>2025-01-04</td>\n",
              "      <td>Santa Fé</td>\n",
              "      <td>Laptops</td>\n",
              "      <td>IKO-397</td>\n",
              "      <td>128.71</td>\n",
              "      <td>254</td>\n",
              "      <td>32692.34</td>\n",
              "    </tr>\n",
              "    <tr>\n",
              "      <th>997</th>\n",
              "      <td>2025-01-04</td>\n",
              "      <td>Zócalo</td>\n",
              "      <td>Cartulinas</td>\n",
              "      <td>YTK-182</td>\n",
              "      <td>610.72</td>\n",
              "      <td>261</td>\n",
              "      <td>159397.92</td>\n",
              "    </tr>\n",
              "    <tr>\n",
              "      <th>998</th>\n",
              "      <td>2025-01-04</td>\n",
              "      <td>Centro</td>\n",
              "      <td>Cuadernos</td>\n",
              "      <td>VJS-496</td>\n",
              "      <td>1968.18</td>\n",
              "      <td>666</td>\n",
              "      <td>1310807.88</td>\n",
              "    </tr>\n",
              "    <tr>\n",
              "      <th>999</th>\n",
              "      <td>2025-01-04</td>\n",
              "      <td>CU</td>\n",
              "      <td>Cajas</td>\n",
              "      <td>QKA-757</td>\n",
              "      <td>2694.26</td>\n",
              "      <td>145</td>\n",
              "      <td>390667.70</td>\n",
              "    </tr>\n",
              "  </tbody>\n",
              "</table>\n",
              "<p>1000 rows × 7 columns</p>\n",
              "</div>\n",
              "    <div class=\"colab-df-buttons\">\n",
              "\n",
              "  <div class=\"colab-df-container\">\n",
              "    <button class=\"colab-df-convert\" onclick=\"convertToInteractive('df-f5141ed7-3008-48ee-a071-2f546c6b34a9')\"\n",
              "            title=\"Convert this dataframe to an interactive table.\"\n",
              "            style=\"display:none;\">\n",
              "\n",
              "  <svg xmlns=\"http://www.w3.org/2000/svg\" height=\"24px\" viewBox=\"0 -960 960 960\">\n",
              "    <path d=\"M120-120v-720h720v720H120Zm60-500h600v-160H180v160Zm220 220h160v-160H400v160Zm0 220h160v-160H400v160ZM180-400h160v-160H180v160Zm440 0h160v-160H620v160ZM180-180h160v-160H180v160Zm440 0h160v-160H620v160Z\"/>\n",
              "  </svg>\n",
              "    </button>\n",
              "\n",
              "  <style>\n",
              "    .colab-df-container {\n",
              "      display:flex;\n",
              "      gap: 12px;\n",
              "    }\n",
              "\n",
              "    .colab-df-convert {\n",
              "      background-color: #E8F0FE;\n",
              "      border: none;\n",
              "      border-radius: 50%;\n",
              "      cursor: pointer;\n",
              "      display: none;\n",
              "      fill: #1967D2;\n",
              "      height: 32px;\n",
              "      padding: 0 0 0 0;\n",
              "      width: 32px;\n",
              "    }\n",
              "\n",
              "    .colab-df-convert:hover {\n",
              "      background-color: #E2EBFA;\n",
              "      box-shadow: 0px 1px 2px rgba(60, 64, 67, 0.3), 0px 1px 3px 1px rgba(60, 64, 67, 0.15);\n",
              "      fill: #174EA6;\n",
              "    }\n",
              "\n",
              "    .colab-df-buttons div {\n",
              "      margin-bottom: 4px;\n",
              "    }\n",
              "\n",
              "    [theme=dark] .colab-df-convert {\n",
              "      background-color: #3B4455;\n",
              "      fill: #D2E3FC;\n",
              "    }\n",
              "\n",
              "    [theme=dark] .colab-df-convert:hover {\n",
              "      background-color: #434B5C;\n",
              "      box-shadow: 0px 1px 3px 1px rgba(0, 0, 0, 0.15);\n",
              "      filter: drop-shadow(0px 1px 2px rgba(0, 0, 0, 0.3));\n",
              "      fill: #FFFFFF;\n",
              "    }\n",
              "  </style>\n",
              "\n",
              "    <script>\n",
              "      const buttonEl =\n",
              "        document.querySelector('#df-f5141ed7-3008-48ee-a071-2f546c6b34a9 button.colab-df-convert');\n",
              "      buttonEl.style.display =\n",
              "        google.colab.kernel.accessAllowed ? 'block' : 'none';\n",
              "\n",
              "      async function convertToInteractive(key) {\n",
              "        const element = document.querySelector('#df-f5141ed7-3008-48ee-a071-2f546c6b34a9');\n",
              "        const dataTable =\n",
              "          await google.colab.kernel.invokeFunction('convertToInteractive',\n",
              "                                                    [key], {});\n",
              "        if (!dataTable) return;\n",
              "\n",
              "        const docLinkHtml = 'Like what you see? Visit the ' +\n",
              "          '<a target=\"_blank\" href=https://colab.research.google.com/notebooks/data_table.ipynb>data table notebook</a>'\n",
              "          + ' to learn more about interactive tables.';\n",
              "        element.innerHTML = '';\n",
              "        dataTable['output_type'] = 'display_data';\n",
              "        await google.colab.output.renderOutput(dataTable, element);\n",
              "        const docLink = document.createElement('div');\n",
              "        docLink.innerHTML = docLinkHtml;\n",
              "        element.appendChild(docLink);\n",
              "      }\n",
              "    </script>\n",
              "  </div>\n",
              "\n",
              "\n",
              "<div id=\"df-f0f4f918-628d-4ac6-b1f8-bbf005b46d7e\">\n",
              "  <button class=\"colab-df-quickchart\" onclick=\"quickchart('df-f0f4f918-628d-4ac6-b1f8-bbf005b46d7e')\"\n",
              "            title=\"Suggest charts\"\n",
              "            style=\"display:none;\">\n",
              "\n",
              "<svg xmlns=\"http://www.w3.org/2000/svg\" height=\"24px\"viewBox=\"0 0 24 24\"\n",
              "     width=\"24px\">\n",
              "    <g>\n",
              "        <path d=\"M19 3H5c-1.1 0-2 .9-2 2v14c0 1.1.9 2 2 2h14c1.1 0 2-.9 2-2V5c0-1.1-.9-2-2-2zM9 17H7v-7h2v7zm4 0h-2V7h2v10zm4 0h-2v-4h2v4z\"/>\n",
              "    </g>\n",
              "</svg>\n",
              "  </button>\n",
              "\n",
              "<style>\n",
              "  .colab-df-quickchart {\n",
              "      --bg-color: #E8F0FE;\n",
              "      --fill-color: #1967D2;\n",
              "      --hover-bg-color: #E2EBFA;\n",
              "      --hover-fill-color: #174EA6;\n",
              "      --disabled-fill-color: #AAA;\n",
              "      --disabled-bg-color: #DDD;\n",
              "  }\n",
              "\n",
              "  [theme=dark] .colab-df-quickchart {\n",
              "      --bg-color: #3B4455;\n",
              "      --fill-color: #D2E3FC;\n",
              "      --hover-bg-color: #434B5C;\n",
              "      --hover-fill-color: #FFFFFF;\n",
              "      --disabled-bg-color: #3B4455;\n",
              "      --disabled-fill-color: #666;\n",
              "  }\n",
              "\n",
              "  .colab-df-quickchart {\n",
              "    background-color: var(--bg-color);\n",
              "    border: none;\n",
              "    border-radius: 50%;\n",
              "    cursor: pointer;\n",
              "    display: none;\n",
              "    fill: var(--fill-color);\n",
              "    height: 32px;\n",
              "    padding: 0;\n",
              "    width: 32px;\n",
              "  }\n",
              "\n",
              "  .colab-df-quickchart:hover {\n",
              "    background-color: var(--hover-bg-color);\n",
              "    box-shadow: 0 1px 2px rgba(60, 64, 67, 0.3), 0 1px 3px 1px rgba(60, 64, 67, 0.15);\n",
              "    fill: var(--button-hover-fill-color);\n",
              "  }\n",
              "\n",
              "  .colab-df-quickchart-complete:disabled,\n",
              "  .colab-df-quickchart-complete:disabled:hover {\n",
              "    background-color: var(--disabled-bg-color);\n",
              "    fill: var(--disabled-fill-color);\n",
              "    box-shadow: none;\n",
              "  }\n",
              "\n",
              "  .colab-df-spinner {\n",
              "    border: 2px solid var(--fill-color);\n",
              "    border-color: transparent;\n",
              "    border-bottom-color: var(--fill-color);\n",
              "    animation:\n",
              "      spin 1s steps(1) infinite;\n",
              "  }\n",
              "\n",
              "  @keyframes spin {\n",
              "    0% {\n",
              "      border-color: transparent;\n",
              "      border-bottom-color: var(--fill-color);\n",
              "      border-left-color: var(--fill-color);\n",
              "    }\n",
              "    20% {\n",
              "      border-color: transparent;\n",
              "      border-left-color: var(--fill-color);\n",
              "      border-top-color: var(--fill-color);\n",
              "    }\n",
              "    30% {\n",
              "      border-color: transparent;\n",
              "      border-left-color: var(--fill-color);\n",
              "      border-top-color: var(--fill-color);\n",
              "      border-right-color: var(--fill-color);\n",
              "    }\n",
              "    40% {\n",
              "      border-color: transparent;\n",
              "      border-right-color: var(--fill-color);\n",
              "      border-top-color: var(--fill-color);\n",
              "    }\n",
              "    60% {\n",
              "      border-color: transparent;\n",
              "      border-right-color: var(--fill-color);\n",
              "    }\n",
              "    80% {\n",
              "      border-color: transparent;\n",
              "      border-right-color: var(--fill-color);\n",
              "      border-bottom-color: var(--fill-color);\n",
              "    }\n",
              "    90% {\n",
              "      border-color: transparent;\n",
              "      border-bottom-color: var(--fill-color);\n",
              "    }\n",
              "  }\n",
              "</style>\n",
              "\n",
              "  <script>\n",
              "    async function quickchart(key) {\n",
              "      const quickchartButtonEl =\n",
              "        document.querySelector('#' + key + ' button');\n",
              "      quickchartButtonEl.disabled = true;  // To prevent multiple clicks.\n",
              "      quickchartButtonEl.classList.add('colab-df-spinner');\n",
              "      try {\n",
              "        const charts = await google.colab.kernel.invokeFunction(\n",
              "            'suggestCharts', [key], {});\n",
              "      } catch (error) {\n",
              "        console.error('Error during call to suggestCharts:', error);\n",
              "      }\n",
              "      quickchartButtonEl.classList.remove('colab-df-spinner');\n",
              "      quickchartButtonEl.classList.add('colab-df-quickchart-complete');\n",
              "    }\n",
              "    (() => {\n",
              "      let quickchartButtonEl =\n",
              "        document.querySelector('#df-f0f4f918-628d-4ac6-b1f8-bbf005b46d7e button');\n",
              "      quickchartButtonEl.style.display =\n",
              "        google.colab.kernel.accessAllowed ? 'block' : 'none';\n",
              "    })();\n",
              "  </script>\n",
              "</div>\n",
              "\n",
              "  <div id=\"id_6ed76ec2-2e46-4577-bcb5-222068ed0e57\">\n",
              "    <style>\n",
              "      .colab-df-generate {\n",
              "        background-color: #E8F0FE;\n",
              "        border: none;\n",
              "        border-radius: 50%;\n",
              "        cursor: pointer;\n",
              "        display: none;\n",
              "        fill: #1967D2;\n",
              "        height: 32px;\n",
              "        padding: 0 0 0 0;\n",
              "        width: 32px;\n",
              "      }\n",
              "\n",
              "      .colab-df-generate:hover {\n",
              "        background-color: #E2EBFA;\n",
              "        box-shadow: 0px 1px 2px rgba(60, 64, 67, 0.3), 0px 1px 3px 1px rgba(60, 64, 67, 0.15);\n",
              "        fill: #174EA6;\n",
              "      }\n",
              "\n",
              "      [theme=dark] .colab-df-generate {\n",
              "        background-color: #3B4455;\n",
              "        fill: #D2E3FC;\n",
              "      }\n",
              "\n",
              "      [theme=dark] .colab-df-generate:hover {\n",
              "        background-color: #434B5C;\n",
              "        box-shadow: 0px 1px 3px 1px rgba(0, 0, 0, 0.15);\n",
              "        filter: drop-shadow(0px 1px 2px rgba(0, 0, 0, 0.3));\n",
              "        fill: #FFFFFF;\n",
              "      }\n",
              "    </style>\n",
              "    <button class=\"colab-df-generate\" onclick=\"generateWithVariable('df_ventas')\"\n",
              "            title=\"Generate code using this dataframe.\"\n",
              "            style=\"display:none;\">\n",
              "\n",
              "  <svg xmlns=\"http://www.w3.org/2000/svg\" height=\"24px\"viewBox=\"0 0 24 24\"\n",
              "       width=\"24px\">\n",
              "    <path d=\"M7,19H8.4L18.45,9,17,7.55,7,17.6ZM5,21V16.75L18.45,3.32a2,2,0,0,1,2.83,0l1.4,1.43a1.91,1.91,0,0,1,.58,1.4,1.91,1.91,0,0,1-.58,1.4L9.25,21ZM18.45,9,17,7.55Zm-12,3A5.31,5.31,0,0,0,4.9,8.1,5.31,5.31,0,0,0,1,6.5,5.31,5.31,0,0,0,4.9,4.9,5.31,5.31,0,0,0,6.5,1,5.31,5.31,0,0,0,8.1,4.9,5.31,5.31,0,0,0,12,6.5,5.46,5.46,0,0,0,6.5,12Z\"/>\n",
              "  </svg>\n",
              "    </button>\n",
              "    <script>\n",
              "      (() => {\n",
              "      const buttonEl =\n",
              "        document.querySelector('#id_6ed76ec2-2e46-4577-bcb5-222068ed0e57 button.colab-df-generate');\n",
              "      buttonEl.style.display =\n",
              "        google.colab.kernel.accessAllowed ? 'block' : 'none';\n",
              "\n",
              "      buttonEl.onclick = () => {\n",
              "        google.colab.notebook.generateWithVariable('df_ventas');\n",
              "      }\n",
              "      })();\n",
              "    </script>\n",
              "  </div>\n",
              "\n",
              "    </div>\n",
              "  </div>\n"
            ],
            "application/vnd.google.colaboratory.intrinsic+json": {
              "type": "dataframe",
              "variable_name": "df_ventas",
              "summary": "{\n  \"name\": \"df_ventas\",\n  \"rows\": 1000,\n  \"fields\": [\n    {\n      \"column\": \"Fecha\",\n      \"properties\": {\n        \"dtype\": \"object\",\n        \"num_unique_values\": 1,\n        \"samples\": [\n          \"2025-01-04\"\n        ],\n        \"semantic_type\": \"\",\n        \"description\": \"\"\n      }\n    },\n    {\n      \"column\": \"Sucursal\",\n      \"properties\": {\n        \"dtype\": \"category\",\n        \"num_unique_values\": 10,\n        \"samples\": [\n          \"Santa F\\u00e9\"\n        ],\n        \"semantic_type\": \"\",\n        \"description\": \"\"\n      }\n    },\n    {\n      \"column\": \"Producto\",\n      \"properties\": {\n        \"dtype\": \"category\",\n        \"num_unique_values\": 26,\n        \"samples\": [\n          \"Laptops\"\n        ],\n        \"semantic_type\": \"\",\n        \"description\": \"\"\n      }\n    },\n    {\n      \"column\": \"Clave_Producto\",\n      \"properties\": {\n        \"dtype\": \"string\",\n        \"num_unique_values\": 1000,\n        \"samples\": [\n          \"FDY-814\"\n        ],\n        \"semantic_type\": \"\",\n        \"description\": \"\"\n      }\n    },\n    {\n      \"column\": \"Precio\",\n      \"properties\": {\n        \"dtype\": \"number\",\n        \"std\": 2315.0301072018096,\n        \"min\": 0.17,\n        \"max\": 9838.82,\n        \"num_unique_values\": 997,\n        \"samples\": [\n          5641.16\n        ],\n        \"semantic_type\": \"\",\n        \"description\": \"\"\n      }\n    },\n    {\n      \"column\": \"Cantidad_Vendida\",\n      \"properties\": {\n        \"dtype\": \"number\",\n        \"std\": 285,\n        \"min\": 2,\n        \"max\": 1000,\n        \"num_unique_values\": 637,\n        \"samples\": [\n          786\n        ],\n        \"semantic_type\": \"\",\n        \"description\": \"\"\n      }\n    },\n    {\n      \"column\": \"Total_Ticket\",\n      \"properties\": {\n        \"dtype\": \"number\",\n        \"std\": 1495928.2468358458,\n        \"min\": 142.8,\n        \"max\": 9382667.059999999,\n        \"num_unique_values\": 1000,\n        \"samples\": [\n          352025.6\n        ],\n        \"semantic_type\": \"\",\n        \"description\": \"\"\n      }\n    }\n  ]\n}"
            }
          },
          "metadata": {},
          "execution_count": 12
        }
      ]
    }
  ]
}